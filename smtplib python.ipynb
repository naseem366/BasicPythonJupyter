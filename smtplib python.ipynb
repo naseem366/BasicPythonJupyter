{
 "cells": [
  {
   "cell_type": "markdown",
   "id": "b0817c34",
   "metadata": {},
   "source": [
    "### Sending Mails Through smtplib Python LIbrary\n",
    "- Goto link=https://myaccount.google.com/u/3/lesssecureapps\n",
    "- Trun ON less Secure app\n",
    "- Put You Cradential in code \n",
    "- You can put all code togher in vs code incase of any error\n",
    "- then you are good to go\n"
   ]
  },
  {
   "cell_type": "code",
   "execution_count": 2,
   "id": "d97a310c",
   "metadata": {},
   "outputs": [],
   "source": [
    "import os\n",
    "import smtplib"
   ]
  },
  {
   "cell_type": "code",
   "execution_count": 4,
   "id": "cfbd8b09",
   "metadata": {},
   "outputs": [],
   "source": [
    "EMAIL_HOST_USER = 'Your Mail on which you enable less secureapps' \n",
    "EMAIL_HOST_PASSWORD = 'Password for that mail'\n",
    "\n"
   ]
  },
  {
   "cell_type": "code",
   "execution_count": 7,
   "id": "0c6c747c",
   "metadata": {},
   "outputs": [
    {
     "name": "stdout",
     "output_type": "stream",
     "text": [
      "Successfully msg sent happy codding\n"
     ]
    }
   ],
   "source": [
    "with smtplib.SMTP('smtp.gmail.com',587) as smtp:\n",
    "    smtp.ehlo()\n",
    "    smtp.starttls()\n",
    "    smtp.ehlo()\n",
    "    smtp.login(EMAIL_HOST_USER,EMAIL_HOST_PASSWORD)\n",
    "    subject='This is just a dummy message!'\n",
    "    body='Hey Akash You got the mail'\n",
    "    msg=f'Subject:{subject}\\n\\n{body}'\n",
    "    smtp.sendmail(EMAIL_HOST_USER,'akashkumar2012001@gmail.com',msg)\n",
    "    print(\"Successfully msg sent happy codding\")\n",
    "   "
   ]
  },
  {
   "cell_type": "code",
   "execution_count": null,
   "id": "4d654e93",
   "metadata": {},
   "outputs": [],
   "source": []
  }
 ],
 "metadata": {
  "kernelspec": {
   "display_name": "Python 3",
   "language": "python",
   "name": "python3"
  },
  "language_info": {
   "codemirror_mode": {
    "name": "ipython",
    "version": 3
   },
   "file_extension": ".py",
   "mimetype": "text/x-python",
   "name": "python",
   "nbconvert_exporter": "python",
   "pygments_lexer": "ipython3",
   "version": "3.9.1"
  }
 },
 "nbformat": 4,
 "nbformat_minor": 5
}
