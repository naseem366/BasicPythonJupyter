{
 "cells": [
  {
   "cell_type": "markdown",
   "metadata": {},
   "source": [
    "# Lists - utilization and memory allocations"
   ]
  },
  {
   "cell_type": "code",
   "execution_count": 2,
   "metadata": {},
   "outputs": [
    {
     "name": "stdout",
     "output_type": "stream",
     "text": [
      "ls: [1, 2, 10, 4] address 1446206684352\n",
      "ls1: [1, 2, 10, 4] address 1446206684352\n"
     ]
    }
   ],
   "source": [
    "ls=[1,2,3,4]\n",
    "ls1=ls\n",
    "ls[2]=10\n",
    "print(\"ls:\",ls,\"address\",id(ls))\n",
    "print(\"ls1:\",ls1,\"address\",id(ls1))"
   ]
  },
  {
   "cell_type": "code",
   "execution_count": 3,
   "metadata": {},
   "outputs": [
    {
     "name": "stdout",
     "output_type": "stream",
     "text": [
      "ls: [1, 2, 10, 4] address 1446206681408\n",
      "ls1: [1, 2, 3, 4] address 1446206419328\n"
     ]
    }
   ],
   "source": [
    "# Using copy to prevent above issue\n",
    "ls=[1,2,3,4]\n",
    "ls1=ls.copy()\n",
    "ls[2]=10\n",
    "print(\"ls:\",ls,\"address\",id(ls))\n",
    "print(\"ls1:\",ls1,\"address\",id(ls1))"
   ]
  },
  {
   "cell_type": "code",
   "execution_count": 4,
   "metadata": {},
   "outputs": [
    {
     "name": "stdout",
     "output_type": "stream",
     "text": [
      "[1, 2, 10, 4]\n",
      "[1, 2, 3, 4]\n"
     ]
    }
   ],
   "source": [
    "# Alternative solution\n",
    "import copy\n",
    "ls=[1,2,3,4]\n",
    "ls1=copy.copy(ls)\n",
    "ls[2]=10\n",
    "print(ls)\n",
    "print(ls1)"
   ]
  },
  {
   "cell_type": "code",
   "execution_count": 7,
   "metadata": {},
   "outputs": [
    {
     "name": "stdout",
     "output_type": "stream",
     "text": [
      "[1, 2, 3, [4, 20]]\n",
      "[1, 2, 3, [4, 20]]\n"
     ]
    }
   ],
   "source": [
    "# copy() and copy.copy() does only SHALLOW COPY , hence issue occurs for nested lists\n",
    "ls=[1,2,3,[4,5]]\n",
    "ls1=copy.copy(ls)\n",
    "ls[3][1]=20\n",
    "print(ls)\n",
    "print(ls1)"
   ]
  },
  {
   "cell_type": "code",
   "execution_count": 9,
   "metadata": {},
   "outputs": [
    {
     "name": "stdout",
     "output_type": "stream",
     "text": [
      "[1, 2, 3, [4, 6]]\n",
      "[1, 2, 3, [4, 5]]\n"
     ]
    }
   ],
   "source": [
    "# copy.deepcopy() fixes issue with nested lists\n",
    "ls=[1,2,3,[4,5]]\n",
    "ls1=copy.deepcopy(ls)\n",
    "ls[3][1]=6\n",
    "print(ls)\n",
    "print(ls1)"
   ]
  },
  {
   "cell_type": "code",
   "execution_count": 10,
   "metadata": {},
   "outputs": [
    {
     "name": "stdout",
     "output_type": "stream",
     "text": [
      "10 5\n"
     ]
    }
   ],
   "source": [
    "x=10\n",
    "y=x\n",
    "y=5\n",
    "print(x,y)"
   ]
  },
  {
   "cell_type": "markdown",
   "metadata": {},
   "source": [
    "## Dictionary\n",
    "- is a collection of key-value pairs\n",
    "- keys are unique and must be of immutable type\n",
    "- dictionary object is mutable\n",
    "- we cannot access dictionary elements using index"
   ]
  },
  {
   "cell_type": "code",
   "execution_count": 11,
   "metadata": {},
   "outputs": [
    {
     "name": "stdout",
     "output_type": "stream",
     "text": [
      "<class 'dict'>\n"
     ]
    }
   ],
   "source": [
    "#create empty dictionary\n",
    "d={}\n",
    "print(type(d))"
   ]
  },
  {
   "cell_type": "code",
   "execution_count": 12,
   "metadata": {},
   "outputs": [
    {
     "name": "stdout",
     "output_type": "stream",
     "text": [
      "<class 'dict'>\n"
     ]
    }
   ],
   "source": [
    "# Alternatively\n",
    "d=dict()\n",
    "print(type(d))"
   ]
  },
  {
   "cell_type": "code",
   "execution_count": 17,
   "metadata": {},
   "outputs": [
    {
     "name": "stdout",
     "output_type": "stream",
     "text": [
      "{'Mango': 'Fruit', 'Banana': 'Fruit', 'Cucumber': 'Veg'} dict_keys(['mango', 'banana', 'cucumber'])\n"
     ]
    }
   ],
   "source": [
    "# create empty dictionary and then add items to it\n",
    "d={}\n",
    "x={'mango':'fruit','banana':'fruit','cucumber':'veg'}\n",
    "d[\"Mango\"]=\"Fruit\"\n",
    "d[\"Banana\"]=\"Fruit\"\n",
    "d[\"Cucumber\"]=\"Veg\"\n",
    "print(d,x.keys())"
   ]
  },
  {
   "cell_type": "code",
   "execution_count": 18,
   "metadata": {},
   "outputs": [
    {
     "name": "stdout",
     "output_type": "stream",
     "text": [
      "{'Mango': 'Fruit', 'Banana': 'veg', 'Cucumber': 'Veg'}\n"
     ]
    }
   ],
   "source": [
    "# Dictionary values can be modified\n",
    "d['Banana']='veg'\n",
    "print(d)"
   ]
  },
  {
   "cell_type": "code",
   "execution_count": 20,
   "metadata": {},
   "outputs": [
    {
     "name": "stdout",
     "output_type": "stream",
     "text": [
      "{'Fruit': 'Mango', 'Veg': 'Cucumber'}\n"
     ]
    }
   ],
   "source": [
    "# key should be unique in dictionary. Otherwise it will overwrite\n",
    "d={}\n",
    "d[\"Fruit\"]=\"Banana\"\n",
    "d[\"Veg\"]=\"Cucumber\"\n",
    "d[\"Fruit\"]=\"Mango\"\n",
    "print(d)"
   ]
  },
  {
   "cell_type": "code",
   "execution_count": 20,
   "metadata": {},
   "outputs": [
    {
     "name": "stdout",
     "output_type": "stream",
     "text": [
      "{'Tom': 3491, 'Jerry': 8135}\n",
      "{'Tom': 3491, 'Jerry': 8135, 'Donald': 4793}\n"
     ]
    }
   ],
   "source": [
    "# Create dictionary with some values and then update it with extra values\n",
    "# dictionary is mutable\n",
    "\n",
    "tel_dir={'Tom':3491,'Jerry':8135}\n",
    "print(tel_dir)\n",
    "tel_dir['Donald']=4793\n",
    "print(tel_dir)"
   ]
  },
  {
   "cell_type": "code",
   "execution_count": 21,
   "metadata": {},
   "outputs": [
    {
     "name": "stdout",
     "output_type": "stream",
     "text": [
      "Telephone number of Tom is: 3491\n"
     ]
    }
   ],
   "source": [
    "# access the values through key\n",
    "print('Telephone number of Tom is:',tel_dir['Tom'])"
   ]
  },
  {
   "cell_type": "code",
   "execution_count": 22,
   "metadata": {},
   "outputs": [
    {
     "ename": "KeyError",
     "evalue": "'Mick'",
     "output_type": "error",
     "traceback": [
      "\u001b[1;31m---------------------------------------------------------------------------\u001b[0m",
      "\u001b[1;31mKeyError\u001b[0m                                  Traceback (most recent call last)",
      "\u001b[1;32m<ipython-input-22-2c94369b3fdf>\u001b[0m in \u001b[0;36m<module>\u001b[1;34m()\u001b[0m\n\u001b[1;32m----> 1\u001b[1;33m \u001b[0mprint\u001b[0m\u001b[1;33m(\u001b[0m\u001b[1;34m'Telephone number of Tom is:'\u001b[0m\u001b[1;33m,\u001b[0m\u001b[0mtel_dir\u001b[0m\u001b[1;33m[\u001b[0m\u001b[1;34m'Mick'\u001b[0m\u001b[1;33m]\u001b[0m\u001b[1;33m)\u001b[0m\u001b[1;33m\u001b[0m\u001b[0m\n\u001b[0m",
      "\u001b[1;31mKeyError\u001b[0m: 'Mick'"
     ]
    }
   ],
   "source": [
    "print('Telephone number of Tom is:',tel_dir['Mick'])"
   ]
  },
  {
   "cell_type": "markdown",
   "metadata": {},
   "source": [
    "### Dictionary operations\n",
    "- using $in$ keyword: Returns true if given key is present in dictionary , otherwise False\n",
    "- $keys()$ method: Returns a sequence of all the keys in dictionary. This sequence can be converted as list\n",
    "- $values()$ method: Returns a sequence of all the values in the dictionary. This sequence can be converted as list\n",
    "- $items()$ method: Returns key-value pair in the form of sequence of tuples. This sequence can be converted as list of tuples\n",
    "- $get()$ method: Takes two arguments, where first argument is a key and second argument is some default value. If the given key exists in the dictionary, the get() method returns the respective value. Otherwise, it returns the default value provided as the second argument."
   ]
  },
  {
   "cell_type": "code",
   "execution_count": 23,
   "metadata": {},
   "outputs": [
    {
     "data": {
      "text/plain": [
       "True"
      ]
     },
     "execution_count": 23,
     "metadata": {},
     "output_type": "execute_result"
    }
   ],
   "source": [
    "# checking whether a key is there in dictionary\n",
    "tel_dir={'Tom':3491,'Jerry':8135,'Donald':4793}\n",
    "\n",
    "'Tom' in tel_dir"
   ]
  },
  {
   "cell_type": "code",
   "execution_count": 25,
   "metadata": {},
   "outputs": [
    {
     "name": "stdout",
     "output_type": "stream",
     "text": [
      "dict_keys(['Tom', 'Jerry', 'Donald']) ['Tom', 'Jerry', 'Donald']\n"
     ]
    }
   ],
   "source": [
    "# using keys() method\n",
    "tel_dir={'Tom':3491,'Jerry':8135,'Donald':4793}\n",
    "ls=list(tel_dir.keys())\n",
    "print(tel_dir.keys(),ls)"
   ]
  },
  {
   "cell_type": "code",
   "execution_count": 27,
   "metadata": {},
   "outputs": [
    {
     "name": "stdout",
     "output_type": "stream",
     "text": [
      "[3491, 8135, 4793] dict_values([3491, 8135, 4793])\n"
     ]
    }
   ],
   "source": [
    "# using values method()\n",
    "tel_dir={'Tom':3491,'Jerry':8135,'Donald':4793}\n",
    "ls=list(tel_dir.values())\n",
    "print(ls,tel_dir.values())"
   ]
  },
  {
   "cell_type": "code",
   "execution_count": 27,
   "metadata": {},
   "outputs": [
    {
     "name": "stdout",
     "output_type": "stream",
     "text": [
      "[('Tom', 3491), ('Jerry', 8135), ('Donald', 4793)]\n"
     ]
    }
   ],
   "source": [
    "# using items() \n",
    "tel_dir={'Tom':3491,'Jerry':8135,'Donald':4793}\n",
    "ls=list(tel_dir.items())\n",
    "print(ls)"
   ]
  },
  {
   "cell_type": "code",
   "execution_count": 31,
   "metadata": {},
   "outputs": [
    {
     "name": "stdout",
     "output_type": "stream",
     "text": [
      "Key is: Tom Value is: 3491\n",
      "Key is: Jerry Value is: 8135\n",
      "Key is: Donald Value is: 4793\n"
     ]
    }
   ],
   "source": [
    "tel_dir={'Tom':3491,'Jerry':8135,'Donald':4793}\n",
    "for k,v in tel_dir.items():\n",
    "    print('Key is:',k,'Value is:',v)"
   ]
  },
  {
   "cell_type": "code",
   "execution_count": 29,
   "metadata": {},
   "outputs": [
    {
     "name": "stdout",
     "output_type": "stream",
     "text": [
      "25\n",
      "Not Found\n"
     ]
    }
   ],
   "source": [
    "# Using get()\n",
    "students={'Tom':24,'Jerry':25,'Donald':21}\n",
    "print(students.get(\"Jerry\",0))\n",
    "print(students.get('Mickey','Not Found'))"
   ]
  },
  {
   "cell_type": "markdown",
   "metadata": {},
   "source": [
    "## Exercises\n",
    "### Write a program to read a string. Count number of occurances of each character in the string. Use Dictionary"
   ]
  },
  {
   "cell_type": "code",
   "execution_count": 29,
   "metadata": {},
   "outputs": [
    {
     "name": "stdout",
     "output_type": "stream",
     "text": [
      "Please enter a string: this is simple program of reading string\n",
      "{'t': 2, 'h': 1, 'i': 5, 's': 4, ' ': 6, 'm': 2, 'p': 2, 'l': 1, 'e': 2, 'r': 4, 'o': 2, 'g': 3, 'a': 2, 'f': 1, 'd': 1, 'n': 2}\n"
     ]
    }
   ],
   "source": [
    "text=input(\"Please enter a string: \")\n",
    "d=dict()\n",
    "ls=list(text)\n",
    "for i in ls:\n",
    "    d[i]=ls.count(i)\n",
    "print(d)"
   ]
  },
  {
   "cell_type": "code",
   "execution_count": 40,
   "metadata": {},
   "outputs": [
    {
     "name": "stdout",
     "output_type": "stream",
     "text": [
      "Enter a string: Enter a string: \n",
      "Final dictionary {'E': 1, 'n': 2, 't': 2, 'e': 1, 'r': 2, ' ': 3, 'a': 1, 's': 1, 'i': 1, 'g': 1, ':': 1}\n"
     ]
    }
   ],
   "source": [
    "d={}\n",
    "s=input('Enter a string: ')\n",
    "\n",
    "for ch in s:\n",
    "    d[ch]=d.get(ch,0)+1\n",
    "\n",
    "print('Final dictionary',d)"
   ]
  },
  {
   "cell_type": "code",
   "execution_count": 35,
   "metadata": {},
   "outputs": [
    {
     "name": "stdout",
     "output_type": "stream",
     "text": [
      "{'Tom': 3491, 'Jerry': 8135, 'Mickey': 1253} {'Tom': 3491, 'Jerry': 8135, 'Mickey': 1253}\n"
     ]
    }
   ],
   "source": [
    "# Effect of copy() on dictionaries\n",
    "tel_dir={'Tom':3491,'Jerry':8135,'Mickey':1253}\n",
    "d1=tel_dir.copy()\n",
    "print(d1,tel_dir)"
   ]
  },
  {
   "cell_type": "code",
   "execution_count": 34,
   "metadata": {},
   "outputs": [
    {
     "name": "stdout",
     "output_type": "stream",
     "text": [
      "1446205628992 this is address\n",
      "1446206661312\n"
     ]
    }
   ],
   "source": [
    "print(id(tel_dir),'this is address')\n",
    "print(id(d1))"
   ]
  },
  {
   "cell_type": "code",
   "execution_count": 37,
   "metadata": {
    "scrolled": true
   },
   "outputs": [
    {
     "data": {
      "text/plain": [
       "['__class__',\n",
       " '__class_getitem__',\n",
       " '__contains__',\n",
       " '__delattr__',\n",
       " '__delitem__',\n",
       " '__dir__',\n",
       " '__doc__',\n",
       " '__eq__',\n",
       " '__format__',\n",
       " '__ge__',\n",
       " '__getattribute__',\n",
       " '__getitem__',\n",
       " '__gt__',\n",
       " '__hash__',\n",
       " '__init__',\n",
       " '__init_subclass__',\n",
       " '__ior__',\n",
       " '__iter__',\n",
       " '__le__',\n",
       " '__len__',\n",
       " '__lt__',\n",
       " '__ne__',\n",
       " '__new__',\n",
       " '__or__',\n",
       " '__reduce__',\n",
       " '__reduce_ex__',\n",
       " '__repr__',\n",
       " '__reversed__',\n",
       " '__ror__',\n",
       " '__setattr__',\n",
       " '__setitem__',\n",
       " '__sizeof__',\n",
       " '__str__',\n",
       " '__subclasshook__',\n",
       " 'clear',\n",
       " 'copy',\n",
       " 'fromkeys',\n",
       " 'get',\n",
       " 'items',\n",
       " 'keys',\n",
       " 'pop',\n",
       " 'popitem',\n",
       " 'setdefault',\n",
       " 'update',\n",
       " 'values']"
      ]
     },
     "execution_count": 37,
     "metadata": {},
     "output_type": "execute_result"
    }
   ],
   "source": [
    "dir(dict)"
   ]
  },
  {
   "cell_type": "code",
   "execution_count": 36,
   "metadata": {},
   "outputs": [
    {
     "name": "stdout",
     "output_type": "stream",
     "text": [
      "1446205748352\n",
      "1446205748352\n"
     ]
    }
   ],
   "source": [
    "d2=tel_dir\n",
    "print(id(tel_dir))\n",
    "print(id(d2))"
   ]
  },
  {
   "cell_type": "markdown",
   "metadata": {},
   "source": [
    "## Tuple\n",
    "- is a collection of elements\n",
    "- is immutable type. Hence it can act as key for dictionary\n",
    "- allows multiple assignments in python\n",
    "- is an iterable type. So indexing and slicing are possible on tuples"
   ]
  },
  {
   "cell_type": "code",
   "execution_count": 38,
   "metadata": {},
   "outputs": [
    {
     "name": "stdout",
     "output_type": "stream",
     "text": [
      "<class 'tuple'>\n"
     ]
    }
   ],
   "source": [
    "#Creating empty tuple\n",
    "t=()\n",
    "print(type(t))"
   ]
  },
  {
   "cell_type": "code",
   "execution_count": 39,
   "metadata": {},
   "outputs": [
    {
     "name": "stdout",
     "output_type": "stream",
     "text": [
      "<class 'tuple'>\n"
     ]
    }
   ],
   "source": [
    "# Alternatively\n",
    "t=tuple()\n",
    "print(type(t))"
   ]
  },
  {
   "cell_type": "code",
   "execution_count": 40,
   "metadata": {
    "scrolled": true
   },
   "outputs": [
    {
     "data": {
      "text/plain": [
       "['__add__',\n",
       " '__class__',\n",
       " '__class_getitem__',\n",
       " '__contains__',\n",
       " '__delattr__',\n",
       " '__dir__',\n",
       " '__doc__',\n",
       " '__eq__',\n",
       " '__format__',\n",
       " '__ge__',\n",
       " '__getattribute__',\n",
       " '__getitem__',\n",
       " '__getnewargs__',\n",
       " '__gt__',\n",
       " '__hash__',\n",
       " '__init__',\n",
       " '__init_subclass__',\n",
       " '__iter__',\n",
       " '__le__',\n",
       " '__len__',\n",
       " '__lt__',\n",
       " '__mul__',\n",
       " '__ne__',\n",
       " '__new__',\n",
       " '__reduce__',\n",
       " '__reduce_ex__',\n",
       " '__repr__',\n",
       " '__rmul__',\n",
       " '__setattr__',\n",
       " '__sizeof__',\n",
       " '__str__',\n",
       " '__subclasshook__',\n",
       " 'count',\n",
       " 'index']"
      ]
     },
     "execution_count": 40,
     "metadata": {},
     "output_type": "execute_result"
    }
   ],
   "source": [
    "dir(tuple)"
   ]
  },
  {
   "cell_type": "code",
   "execution_count": 41,
   "metadata": {},
   "outputs": [
    {
     "name": "stdout",
     "output_type": "stream",
     "text": [
      "(12, 35, -3)\n"
     ]
    }
   ],
   "source": [
    "# Creating tuple with elements\n",
    "t=(12,35,-3)\n",
    "print(t)"
   ]
  },
  {
   "cell_type": "code",
   "execution_count": 44,
   "metadata": {},
   "outputs": [
    {
     "name": "stdout",
     "output_type": "stream",
     "text": [
      "<class 'int'>\n"
     ]
    }
   ],
   "source": [
    "# trying to create tuple with single element\n",
    "t=(3)\n",
    "print(type(t))     #will be treated as integer"
   ]
  },
  {
   "cell_type": "code",
   "execution_count": 50,
   "metadata": {},
   "outputs": [
    {
     "name": "stdout",
     "output_type": "stream",
     "text": [
      "<class 'tuple'>\n"
     ]
    }
   ],
   "source": [
    "# Use comma to prevent this problem\n",
    "t=(3,)\n",
    "print(type(t))"
   ]
  },
  {
   "cell_type": "code",
   "execution_count": 45,
   "metadata": {},
   "outputs": [
    {
     "name": "stdout",
     "output_type": "stream",
     "text": [
      "<class 'tuple'>\n",
      "(1, 2, 3)\n"
     ]
    }
   ],
   "source": [
    "# paranthesis is not manadatory \n",
    "t=1,2,3\n",
    "print(type(t))\n",
    "print(t)"
   ]
  },
  {
   "cell_type": "code",
   "execution_count": 46,
   "metadata": {},
   "outputs": [
    {
     "name": "stdout",
     "output_type": "stream",
     "text": [
      "hi\n"
     ]
    }
   ],
   "source": [
    "# Extracting values from tuple using indexing\n",
    "t = (1,'hi',34,2.5)\n",
    "print(t[1])"
   ]
  },
  {
   "cell_type": "code",
   "execution_count": 47,
   "metadata": {},
   "outputs": [
    {
     "name": "stdout",
     "output_type": "stream",
     "text": [
      "(34, 2.5, 45, 21)\n",
      "(21, 45, 2.5, 34, 'hi', 1)\n",
      "(34, 2.5, 45)\n"
     ]
    }
   ],
   "source": [
    "# Tuple slicing\n",
    "t = (1,'hi',34,2.5,45,21)\n",
    "print(t[2:])\n",
    "print(t[::-1])\n",
    "print(t[2:5])"
   ]
  },
  {
   "cell_type": "code",
   "execution_count": 48,
   "metadata": {},
   "outputs": [
    {
     "ename": "TypeError",
     "evalue": "'tuple' object does not support item assignment",
     "output_type": "error",
     "traceback": [
      "\u001b[1;31m---------------------------------------------------------------------------\u001b[0m",
      "\u001b[1;31mTypeError\u001b[0m                                 Traceback (most recent call last)",
      "\u001b[1;32m<ipython-input-48-65b86fbe9745>\u001b[0m in \u001b[0;36m<module>\u001b[1;34m\u001b[0m\n\u001b[0;32m      1\u001b[0m \u001b[1;31m# Tuples are immutable\u001b[0m\u001b[1;33m\u001b[0m\u001b[1;33m\u001b[0m\u001b[1;33m\u001b[0m\u001b[0m\n\u001b[0;32m      2\u001b[0m \u001b[0mt\u001b[0m\u001b[1;33m=\u001b[0m\u001b[1;33m(\u001b[0m\u001b[1;36m1\u001b[0m\u001b[1;33m,\u001b[0m\u001b[1;34m'hi'\u001b[0m\u001b[1;33m,\u001b[0m\u001b[1;36m34\u001b[0m\u001b[1;33m,\u001b[0m\u001b[1;36m2.5\u001b[0m\u001b[1;33m)\u001b[0m\u001b[1;33m\u001b[0m\u001b[1;33m\u001b[0m\u001b[0m\n\u001b[1;32m----> 3\u001b[1;33m \u001b[0mt\u001b[0m\u001b[1;33m[\u001b[0m\u001b[1;36m1\u001b[0m\u001b[1;33m]\u001b[0m\u001b[1;33m=\u001b[0m\u001b[1;34m'hello'\u001b[0m\u001b[1;33m\u001b[0m\u001b[1;33m\u001b[0m\u001b[0m\n\u001b[0m\u001b[0;32m      4\u001b[0m \u001b[0mprint\u001b[0m\u001b[1;33m(\u001b[0m\u001b[0mt\u001b[0m\u001b[1;33m)\u001b[0m\u001b[1;33m\u001b[0m\u001b[1;33m\u001b[0m\u001b[0m\n",
      "\u001b[1;31mTypeError\u001b[0m: 'tuple' object does not support item assignment"
     ]
    }
   ],
   "source": [
    "# Tuples are immutable\n",
    "t=(1,'hi',34,2.5)\n",
    "t[1]='hello'\n",
    "print(t)"
   ]
  },
  {
   "cell_type": "markdown",
   "metadata": {},
   "source": [
    "### Multiple Assignments using tuple"
   ]
  },
  {
   "cell_type": "code",
   "execution_count": 58,
   "metadata": {},
   "outputs": [
    {
     "name": "stdout",
     "output_type": "stream",
     "text": [
      "(10,)\n",
      "('hi',)\n"
     ]
    }
   ],
   "source": [
    "x,y=(10,),('hi',)\n",
    "print(x)\n",
    "print(y)"
   ]
  },
  {
   "cell_type": "code",
   "execution_count": 56,
   "metadata": {},
   "outputs": [
    {
     "ename": "ValueError",
     "evalue": "not enough values to unpack (expected 3, got 2)",
     "output_type": "error",
     "traceback": [
      "\u001b[1;31m---------------------------------------------------------------------------\u001b[0m",
      "\u001b[1;31mValueError\u001b[0m                                Traceback (most recent call last)",
      "\u001b[1;32m<ipython-input-56-7ffafbbd5276>\u001b[0m in \u001b[0;36m<module>\u001b[1;34m\u001b[0m\n\u001b[1;32m----> 1\u001b[1;33m \u001b[0mx\u001b[0m\u001b[1;33m,\u001b[0m\u001b[0my\u001b[0m\u001b[1;33m,\u001b[0m\u001b[0mz\u001b[0m\u001b[1;33m=\u001b[0m\u001b[1;36m10\u001b[0m\u001b[1;33m,\u001b[0m\u001b[1;36m5\u001b[0m\u001b[1;33m\u001b[0m\u001b[1;33m\u001b[0m\u001b[0m\n\u001b[0m",
      "\u001b[1;31mValueError\u001b[0m: not enough values to unpack (expected 3, got 2)"
     ]
    }
   ],
   "source": [
    "x,y,z=10,5"
   ]
  },
  {
   "cell_type": "code",
   "execution_count": 60,
   "metadata": {},
   "outputs": [
    {
     "ename": "ValueError",
     "evalue": "too many values to unpack (expected 2)",
     "output_type": "error",
     "traceback": [
      "\u001b[1;31m---------------------------------------------------------------------------\u001b[0m",
      "\u001b[1;31mValueError\u001b[0m                                Traceback (most recent call last)",
      "\u001b[1;32m<ipython-input-60-208eaabcdff2>\u001b[0m in \u001b[0;36m<module>\u001b[1;34m()\u001b[0m\n\u001b[1;32m----> 1\u001b[1;33m \u001b[0mx\u001b[0m\u001b[1;33m,\u001b[0m\u001b[0my\u001b[0m\u001b[1;33m=\u001b[0m\u001b[1;36m10\u001b[0m\u001b[1;33m,\u001b[0m\u001b[1;36m20\u001b[0m\u001b[1;33m,\u001b[0m\u001b[1;36m30\u001b[0m\u001b[1;33m\u001b[0m\u001b[0m\n\u001b[0m",
      "\u001b[1;31mValueError\u001b[0m: too many values to unpack (expected 2)"
     ]
    }
   ],
   "source": [
    "x,y=10,20,30"
   ]
  },
  {
   "cell_type": "code",
   "execution_count": 59,
   "metadata": {},
   "outputs": [
    {
     "name": "stdout",
     "output_type": "stream",
     "text": [
      "Enter x: 5\n",
      "Enter y: 6\n",
      "Before swap 5 6\n",
      "After swap:  6 5\n"
     ]
    }
   ],
   "source": [
    "# Program for swapping of numbers\n",
    "x=int(input('Enter x: '))\n",
    "y=int(input('Enter y: '))\n",
    "print('Before swap',x,y)\n",
    "x,y=y,x\n",
    "print(\"After swap: \",x,y)"
   ]
  },
  {
   "cell_type": "code",
   "execution_count": 61,
   "metadata": {},
   "outputs": [
    {
     "name": "stdout",
     "output_type": "stream",
     "text": [
      "('H', 'e', 'l', 'l', 'o')\n"
     ]
    }
   ],
   "source": [
    "# Creating tuple from string\n",
    "t=tuple('Hello')\n",
    "print(t)"
   ]
  },
  {
   "cell_type": "code",
   "execution_count": 64,
   "metadata": {},
   "outputs": [
    {
     "name": "stdout",
     "output_type": "stream",
     "text": [
      "<class 'tuple'>\n",
      "<class 'list'>\n"
     ]
    }
   ],
   "source": [
    "# creating tuple from lists\n",
    "ls=[12,34,90,43]\n",
    "t=tuple(ls)\n",
    "print(type(t))\n",
    "print(type(ls))"
   ]
  },
  {
   "cell_type": "code",
   "execution_count": 65,
   "metadata": {},
   "outputs": [
    {
     "name": "stdout",
     "output_type": "stream",
     "text": [
      "[12, 34, 90, 43]\n"
     ]
    }
   ],
   "source": [
    "ls1=list(t)\n",
    "print(ls1)"
   ]
  },
  {
   "cell_type": "markdown",
   "metadata": {},
   "source": [
    "## Exercises\n",
    "### 2. Take an email ID as user input. Extract user name and domain seperately and print them"
   ]
  },
  {
   "cell_type": "code",
   "execution_count": 69,
   "metadata": {},
   "outputs": [
    {
     "name": "stdout",
     "output_type": "stream",
     "text": [
      "('aryan22796', 'ieee.org')\n"
     ]
    }
   ],
   "source": [
    "# Extract username and domain name from emailId\n",
    "email='aryan22796@ieee.org'\n",
    "ls=email.split('@')\n",
    "t=tuple(ls)\n",
    "print(t)"
   ]
  },
  {
   "cell_type": "code",
   "execution_count": 68,
   "metadata": {},
   "outputs": [
    {
     "name": "stdout",
     "output_type": "stream",
     "text": [
      "Username: aryan\n",
      "Domain name ieee.org\n"
     ]
    }
   ],
   "source": [
    "email='aryan@ieee.org'\n",
    "if '@' in email:\n",
    "    uname,dname=email.split('@')\n",
    "    print('Username:',uname)\n",
    "    print('Domain name',dname)\n",
    "else:\n",
    "    print('inavalid email')"
   ]
  },
  {
   "cell_type": "markdown",
   "metadata": {},
   "source": [
    "### 3. Read a sentence as a keyboard input. Craete a list of all words in the sentence such that they are arranged in the descending order of their length"
   ]
  },
  {
   "cell_type": "code",
   "execution_count": 70,
   "metadata": {},
   "outputs": [
    {
     "name": "stdout",
     "output_type": "stream",
     "text": [
      "Please enter some text: so this our programming class which almost end here\n",
      "['so', 'this', 'our', 'programming', 'class', 'which', 'almost', 'end', 'here']\n",
      "['programming', 'almost', 'class', 'which', 'this', 'here', 'our', 'end', 'so']\n"
     ]
    }
   ],
   "source": [
    "text=input(\"Please enter some text: \")\n",
    "t=text.split()\n",
    "#t=tuple(ls)\n",
    "print(t)\n",
    "for i in range(len(t)-1):\n",
    "    for j in range(len(t)-1):\n",
    "        if(len(t[j])<len(t[j+1])):\n",
    "            t[j],t[j+1]=t[j+1],t[j]\n",
    "ls=list(t)\n",
    "print(t)"
   ]
  },
  {
   "cell_type": "code",
   "execution_count": 82,
   "metadata": {},
   "outputs": [
    {
     "name": "stdout",
     "output_type": "stream",
     "text": [
      "Please enter some text: India is a great country.\n",
      "The list \n",
      " [(5, 'India'), (2, 'is'), (1, 'a'), (5, 'great'), (8, 'country.')]\n",
      "The sorted list:\n",
      " ['country.', 'great', 'India', 'is', 'a']\n"
     ]
    }
   ],
   "source": [
    "txt=input(\"Please enter some text: \")\n",
    "t=[]\n",
    "for word in txt.split():\n",
    "    t.append((len(word),word))\n",
    "\n",
    "print(\"The list \\n\",t)\n",
    "t.sort(reverse=True)\n",
    "res=[]\n",
    "\n",
    "for length, word in t:\n",
    "    res.append(word)\n",
    "print('The sorted list:\\n',res)"
   ]
  },
  {
   "cell_type": "code",
   "execution_count": 86,
   "metadata": {},
   "outputs": [
    {
     "name": "stdout",
     "output_type": "stream",
     "text": [
      "Please enter some text: India is a great country.\n",
      "The list \n",
      " [('India', 5), ('is', 2), ('a', 1), ('great', 5), ('country.', 8)]\n",
      "[('is', 2), ('great', 5), ('country.', 8), ('a', 1), ('India', 5)]\n",
      "The sorted list:\n",
      " [2, 5, 8, 1, 5]\n"
     ]
    }
   ],
   "source": [
    "txt=input(\"Please enter some text: \")\n",
    "t=[]\n",
    "for word in txt.split():\n",
    "    t.append((word,len(word)))\n",
    "\n",
    "print(\"The list \\n\",t)\n",
    "t.sort(reverse=True)\n",
    "res=[]\n",
    "\n",
    "print(t)\n",
    "\n",
    "for length, word in t:\n",
    "    res.append(word)\n",
    "print('The sorted list:\\n',res)"
   ]
  },
  {
   "cell_type": "code",
   "execution_count": 87,
   "metadata": {},
   "outputs": [
    {
     "name": "stdout",
     "output_type": "stream",
     "text": [
      "[('is', 2), ('great', 5), ('country.', 8), ('a', 1), ('India', 5)]\n"
     ]
    }
   ],
   "source": [
    "print(t)"
   ]
  },
  {
   "cell_type": "code",
   "execution_count": 96,
   "metadata": {},
   "outputs": [
    {
     "name": "stdout",
     "output_type": "stream",
     "text": [
      "('is', 2)\n"
     ]
    },
    {
     "ename": "TypeError",
     "evalue": "'tuple' object does not support item assignment",
     "output_type": "error",
     "traceback": [
      "\u001b[1;31m---------------------------------------------------------------------------\u001b[0m",
      "\u001b[1;31mTypeError\u001b[0m                                 Traceback (most recent call last)",
      "\u001b[1;32m<ipython-input-96-c622082cb257>\u001b[0m in \u001b[0;36m<module>\u001b[1;34m()\u001b[0m\n\u001b[0;32m      2\u001b[0m \u001b[1;32mfor\u001b[0m \u001b[0mx\u001b[0m \u001b[1;32min\u001b[0m \u001b[0mtu\u001b[0m\u001b[1;33m:\u001b[0m\u001b[1;33m\u001b[0m\u001b[0m\n\u001b[0;32m      3\u001b[0m     \u001b[0mprint\u001b[0m\u001b[1;33m(\u001b[0m\u001b[0mx\u001b[0m\u001b[1;33m)\u001b[0m\u001b[1;33m\u001b[0m\u001b[0m\n\u001b[1;32m----> 4\u001b[1;33m     \u001b[0mx\u001b[0m\u001b[1;33m[\u001b[0m\u001b[1;36m0\u001b[0m\u001b[1;33m]\u001b[0m\u001b[1;33m,\u001b[0m\u001b[0mx\u001b[0m\u001b[1;33m[\u001b[0m\u001b[1;36m1\u001b[0m\u001b[1;33m]\u001b[0m\u001b[1;33m=\u001b[0m\u001b[0mx\u001b[0m\u001b[1;33m[\u001b[0m\u001b[1;36m1\u001b[0m\u001b[1;33m]\u001b[0m\u001b[1;33m,\u001b[0m\u001b[0mx\u001b[0m\u001b[1;33m[\u001b[0m\u001b[1;36m0\u001b[0m\u001b[1;33m]\u001b[0m\u001b[1;33m\u001b[0m\u001b[0m\n\u001b[0m\u001b[0;32m      5\u001b[0m \u001b[1;33m\u001b[0m\u001b[0m\n\u001b[0;32m      6\u001b[0m \u001b[0mprint\u001b[0m\u001b[1;33m(\u001b[0m\u001b[0mtu\u001b[0m\u001b[1;33m)\u001b[0m\u001b[1;33m\u001b[0m\u001b[0m\n",
      "\u001b[1;31mTypeError\u001b[0m: 'tuple' object does not support item assignment"
     ]
    }
   ],
   "source": [
    "tu=tuple(t)\n",
    "for x in tu:\n",
    "    print(x)\n",
    "    x[0],x[1]=x[1],x[0]\n",
    "    \n",
    "print(tu)"
   ]
  },
  {
   "cell_type": "code",
   "execution_count": null,
   "metadata": {},
   "outputs": [],
   "source": []
  }
 ],
 "metadata": {
  "kernelspec": {
   "display_name": "Python 3",
   "language": "python",
   "name": "python3"
  },
  "language_info": {
   "codemirror_mode": {
    "name": "ipython",
    "version": 3
   },
   "file_extension": ".py",
   "mimetype": "text/x-python",
   "name": "python",
   "nbconvert_exporter": "python",
   "pygments_lexer": "ipython3",
   "version": "3.9.1"
  }
 },
 "nbformat": 4,
 "nbformat_minor": 2
}
