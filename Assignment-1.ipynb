{
 "cells": [
  {
   "cell_type": "markdown",
   "metadata": {},
   "source": [
    "# Assignment 1"
   ]
  },
  {
   "cell_type": "markdown",
   "metadata": {},
   "source": [
    "### Write a program to get a string made of the 1st 2 and last 2 charactrs from a given string. If string length is less than 2, return empty string"
   ]
  },
  {
   "cell_type": "code",
   "execution_count": 2,
   "metadata": {},
   "outputs": [
    {
     "name": "stdout",
     "output_type": "stream",
     "text": [
      "Please enter a string: Assignment\n",
      "Output String: Asnt\n"
     ]
    }
   ],
   "source": [
    "userInput = input(\"Please enter a string: \")\n",
    "if len(userInput)<2:\n",
    "    print(\"\")\n",
    "else:\n",
    "    print(\"Output String:\",userInput[:2]+userInput[-2:])"
   ]
  },
  {
   "cell_type": "markdown",
   "metadata": {},
   "source": [
    "### Consider a string S=\"Hello how are you?\". Write a program to return this string without spaces."
   ]
  },
  {
   "cell_type": "code",
   "execution_count": 3,
   "metadata": {},
   "outputs": [
    {
     "name": "stdout",
     "output_type": "stream",
     "text": [
      "Original String: Hello how are you?\n",
      "String without spaces: Hellohowareyou?\n"
     ]
    }
   ],
   "source": [
    "S=\"Hello how are you?\"\n",
    "print(\"Original String:\",S)\n",
    "print(\"String without spaces:\",S.replace(' ',''))"
   ]
  },
  {
   "cell_type": "markdown",
   "metadata": {},
   "source": [
    "### Write a program to remove the characters which have odd index values of a given string"
   ]
  },
  {
   "cell_type": "code",
   "execution_count": 4,
   "metadata": {},
   "outputs": [
    {
     "name": "stdout",
     "output_type": "stream",
     "text": [
      "Please enter a string: 0123456789\n",
      "String with odd index characters removed: 02468\n"
     ]
    }
   ],
   "source": [
    "userInput=input(\"Please enter a string: \")\n",
    "print(\"String with odd index characters removed:\",userInput[::2])"
   ]
  },
  {
   "cell_type": "markdown",
   "metadata": {},
   "source": [
    "### Write a program to change a given string to a new string where 1st and last characters have been exchanged"
   ]
  },
  {
   "cell_type": "code",
   "execution_count": 5,
   "metadata": {},
   "outputs": [
    {
     "name": "stdout",
     "output_type": "stream",
     "text": [
      "Please enter a string: Data Science\n",
      "String with first and last characters exchanged: eata SciencD\n"
     ]
    }
   ],
   "source": [
    "userInput=input(\"Please enter a string: \")\n",
    "print(\"String with first and last characters exchanged:\",userInput[-1]+userInput[1:-1]+userInput[0])"
   ]
  },
  {
   "cell_type": "markdown",
   "metadata": {},
   "source": [
    "### Write a program to add 'ing' at the end of a given string (length should be atleast 3). If the given string already ends with 'ing' then add 'ly' instead. If the string length of the given string is less than 3, leave it unchanged."
   ]
  },
  {
   "cell_type": "code",
   "execution_count": 6,
   "metadata": {},
   "outputs": [
    {
     "name": "stdout",
     "output_type": "stream",
     "text": [
      "Please enter a string: Assignment\n",
      "Output String: Assignmenting\n"
     ]
    }
   ],
   "source": [
    "userInput=input(\"Please enter a string: \")\n",
    "if len(userInput)<3 :\n",
    "    print(\"Output String:\",userInput)\n",
    "elif userInput[-3:]=='ing':\n",
    "    print(\"Output String:\",userInput+'ly')\n",
    "else:\n",
    "    print(\"Output String:\",userInput+'ing')"
   ]
  },
  {
   "cell_type": "markdown",
   "metadata": {},
   "source": [
    "### A positive integer 'm' is a sum of squares if it can be written as 'k+l' where k>0,l>0 and both k & l are perfect squares. Write a function sumofsquares(m) that takes an integer m returns 'True' if m is a sum of squares and 'False' otherwise. If m is not positive your function should return false."
   ]
  },
  {
   "cell_type": "code",
   "execution_count": 5,
   "metadata": {},
   "outputs": [
    {
     "name": "stdout",
     "output_type": "stream",
     "text": [
      "Please enter a positive integer: 2450\n",
      "2450 is a sum of squares\n"
     ]
    }
   ],
   "source": [
    "import math\n",
    "def sumofsquares(m):\n",
    "    if m<0:\n",
    "        return False\n",
    "    n=math.floor(math.sqrt(m))\n",
    "    for i in range(1,n+1):\n",
    "        #for j in range(1,n+1):\n",
    "        for j in range(n,0,-1):\n",
    "            if(i*i+j*j==m):\n",
    "                return True\n",
    "    return False\n",
    "    \n",
    "m=int(input(\"Please enter a positive integer: \"))\n",
    "if(sumofsquares(m)):\n",
    "    print(m,\"is a sum of squares\")\n",
    "else:\n",
    "    print(m,\"is not a sum of squares\")"
   ]
  },
  {
   "cell_type": "code",
   "execution_count": null,
   "metadata": {},
   "outputs": [],
   "source": []
  },
  {
   "cell_type": "code",
   "execution_count": null,
   "metadata": {},
   "outputs": [],
   "source": []
  }
 ],
 "metadata": {
  "kernelspec": {
   "display_name": "Python 3",
   "language": "python",
   "name": "python3"
  },
  "language_info": {
   "codemirror_mode": {
    "name": "ipython",
    "version": 3
   },
   "file_extension": ".py",
   "mimetype": "text/x-python",
   "name": "python",
   "nbconvert_exporter": "python",
   "pygments_lexer": "ipython3",
   "version": "3.9.1"
  }
 },
 "nbformat": 4,
 "nbformat_minor": 2
}
