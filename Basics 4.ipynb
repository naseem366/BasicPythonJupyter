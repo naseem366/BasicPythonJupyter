{
 "cells": [
  {
   "cell_type": "markdown",
   "metadata": {},
   "source": [
    "# List"
   ]
  },
  {
   "cell_type": "code",
   "execution_count": 1,
   "metadata": {},
   "outputs": [
    {
     "name": "stdout",
     "output_type": "stream",
     "text": [
      "<class 'list'>\n"
     ]
    }
   ],
   "source": [
    "# Create empty list\n",
    "ls = []\n",
    "print(type(ls))"
   ]
  },
  {
   "cell_type": "code",
   "execution_count": 2,
   "metadata": {},
   "outputs": [
    {
     "name": "stdout",
     "output_type": "stream",
     "text": [
      "<class 'list'>\n"
     ]
    }
   ],
   "source": [
    "# Alternatively\n",
    "ls1=list();\n",
    "print(type(ls1))"
   ]
  },
  {
   "cell_type": "code",
   "execution_count": 4,
   "metadata": {},
   "outputs": [
    {
     "name": "stdout",
     "output_type": "stream",
     "text": [
      "[23, 56, -3, 45]\n"
     ]
    }
   ],
   "source": [
    "# create a list of integers\n",
    "ls=[23,56,-3,45] \n",
    "n=len(ls)\n",
    "print(ls)"
   ]
  },
  {
   "cell_type": "code",
   "execution_count": 5,
   "metadata": {},
   "outputs": [
    {
     "data": {
      "text/plain": [
       "-3"
      ]
     },
     "execution_count": 5,
     "metadata": {},
     "output_type": "execute_result"
    }
   ],
   "source": [
    "# Extracting element of list through index\n",
    "ls[2]"
   ]
  },
  {
   "cell_type": "code",
   "execution_count": 7,
   "metadata": {},
   "outputs": [
    {
     "name": "stdout",
     "output_type": "stream",
     "text": [
      "23 56 -3 45 "
     ]
    }
   ],
   "source": [
    "for i in range (n):\n",
    "    print(ls[i],end=' ')\n"
   ]
  },
  {
   "cell_type": "code",
   "execution_count": 12,
   "metadata": {},
   "outputs": [
    {
     "name": "stdout",
     "output_type": "stream",
     "text": [
      "23\n",
      "56\n",
      "-3\n",
      "45\n"
     ]
    }
   ],
   "source": [
    "for i in ls:\n",
    "    print(i)\n"
   ]
  },
  {
   "cell_type": "code",
   "execution_count": 13,
   "metadata": {},
   "outputs": [
    {
     "name": "stdout",
     "output_type": "stream",
     "text": [
      "['hi', 23, 4.5, 'x', -10, 5, 6]\n",
      "hi <class 'str'>\n",
      "23 <class 'int'>\n",
      "4.5 <class 'float'>\n",
      "x <class 'str'>\n",
      "-10 <class 'int'>\n",
      "5 <class 'int'>\n",
      "6 <class 'int'>\n"
     ]
    }
   ],
   "source": [
    "# create list of mixed data-types\n",
    "ls=['hi',23,4.5,'x',-10,5,6]\n",
    "print(ls)\n",
    "for i in ls:\n",
    "    print(i,type(i))"
   ]
  },
  {
   "cell_type": "code",
   "execution_count": 15,
   "metadata": {},
   "outputs": [
    {
     "name": "stdout",
     "output_type": "stream",
     "text": [
      "[2, 34, 56, 78]\n",
      "[2, 34, 98, 78]\n"
     ]
    }
   ],
   "source": [
    "# list are mutable\n",
    "ls=[2,34,56,78]\n",
    "print(ls)\n",
    "ls[2]=98\n",
    "print(ls)"
   ]
  },
  {
   "cell_type": "code",
   "execution_count": null,
   "metadata": {},
   "outputs": [],
   "source": []
  },
  {
   "cell_type": "code",
   "execution_count": 20,
   "metadata": {},
   "outputs": [
    {
     "name": "stdout",
     "output_type": "stream",
     "text": [
      "[45, 56]\n"
     ]
    }
   ],
   "source": [
    "# Nested list\n",
    "ls=[34,56,[-2,45,56]]\n",
    "print(ls[2][1:])\n"
   ]
  },
  {
   "cell_type": "code",
   "execution_count": 8,
   "metadata": {},
   "outputs": [
    {
     "name": "stdout",
     "output_type": "stream",
     "text": [
      "['h', 'e', 'l', 'l', 'o']\n"
     ]
    }
   ],
   "source": [
    "ls=list('hello')\n",
    "print(ls)"
   ]
  },
  {
   "cell_type": "code",
   "execution_count": 25,
   "metadata": {},
   "outputs": [
    {
     "data": {
      "text/plain": [
       "[1, 2, 3, 4, 5, 6, 7, 8, 9]"
      ]
     },
     "execution_count": 25,
     "metadata": {},
     "output_type": "execute_result"
    }
   ],
   "source": [
    "ls1=list(range(1,10))\n",
    "ls1"
   ]
  },
  {
   "cell_type": "code",
   "execution_count": 26,
   "metadata": {},
   "outputs": [
    {
     "name": "stdout",
     "output_type": "stream",
     "text": [
      "[1, 3, 5, 7, 9, 11, 13, 15, 17, 19]\n"
     ]
    }
   ],
   "source": [
    "# Creating list of odd numbers\n",
    "ls=list(range(1,20,2))\n",
    "print(ls)"
   ]
  },
  {
   "cell_type": "code",
   "execution_count": 32,
   "metadata": {},
   "outputs": [
    {
     "data": {
      "text/plain": [
       "[1, 3, 5, 7, 9, 11, 13, 15, 17, 19, 21]"
      ]
     },
     "execution_count": 32,
     "metadata": {},
     "output_type": "execute_result"
    }
   ],
   "source": [
    "#ls.append(21) # interview question \n",
    "?ls.pop\n",
    "ls"
   ]
  },
  {
   "cell_type": "code",
   "execution_count": 28,
   "metadata": {},
   "outputs": [
    {
     "data": {
      "text/plain": [
       "[23, 56, 89, 4, 'hi', 4.5, 12]"
      ]
     },
     "execution_count": 28,
     "metadata": {},
     "output_type": "execute_result"
    }
   ],
   "source": [
    "# concatenation of list using +\n",
    "ls1=[23,56,89,4]\n",
    "ls2=['hi',4.5,12]\n",
    "ls3=ls1+ls2\n",
    "ls3"
   ]
  },
  {
   "cell_type": "code",
   "execution_count": 11,
   "metadata": {},
   "outputs": [
    {
     "data": {
      "text/plain": [
       "[1, 2, 3, 1, 2, 3, 1, 2, 3]"
      ]
     },
     "execution_count": 11,
     "metadata": {},
     "output_type": "execute_result"
    }
   ],
   "source": [
    "# repetition of lists using *\n",
    "ls=[1,2,3]\n",
    "ls=ls*3\n",
    "ls"
   ]
  },
  {
   "cell_type": "code",
   "execution_count": 33,
   "metadata": {},
   "outputs": [
    {
     "name": "stdout",
     "output_type": "stream",
     "text": [
      "['c', 'd']\n",
      "['a', 'b', 'c']\n",
      "['b', 'c', 'd', 'e']\n",
      "['a', 'b', 'c', 'd', 'e']\n",
      "['a', 'b', 'c']\n",
      "[]\n"
     ]
    }
   ],
   "source": [
    "#string slicing\n",
    "t=['a','b','c','d','e']\n",
    "print(t[2:4])\n",
    "print(t[:3])\n",
    "print(t[1:])\n",
    "print(t[:])\n",
    "print(t[:-2])\n",
    "print(t[-1:3:1])"
   ]
  },
  {
   "cell_type": "code",
   "execution_count": 35,
   "metadata": {},
   "outputs": [
    {
     "name": "stdout",
     "output_type": "stream",
     "text": [
      "['a', 'b', 'c', 'd', 'e', 'f', 'g', 'h', 'i', 'j', 'k', 'l', 'm', 'n', 'o']\n",
      "['o', 'm', 'k', 'i', 'g', 'e', 'c', 'a']\n",
      "['o', 'm']\n",
      "['g', 'f', 'e', 'd']\n"
     ]
    }
   ],
   "source": [
    "txt=list('abcdefghijklmno')\n",
    "print(txt)\n",
    "print(txt[::-2])\n",
    "print(txt[:-4:-2])\n",
    "print(txt[6:2:-1])"
   ]
  },
  {
   "cell_type": "code",
   "execution_count": 36,
   "metadata": {},
   "outputs": [
    {
     "name": "stdout",
     "output_type": "stream",
     "text": [
      "['a', 10, 20, 'd', 'e', 'f']\n",
      "['a', 10, 20, 'e', 'f']\n"
     ]
    }
   ],
   "source": [
    "t=['a','b','c','d','e','f']\n",
    "t[1:3]=[10,20]\n",
    "print(t)\n",
    "t[1:4]=[10,20]\n",
    "print(t)"
   ]
  },
  {
   "cell_type": "code",
   "execution_count": 27,
   "metadata": {},
   "outputs": [
    {
     "name": "stdout",
     "output_type": "stream",
     "text": [
      "['a', 'b', 'c', 'd', 'e', 'f']\n",
      "['a', 10, 20, 'c', 'd', 'e', 'f'] length= 7\n"
     ]
    }
   ],
   "source": [
    "t=['a','b','c','d','e','f']\n",
    "print(t)\n",
    "t[1:2]=[10,20]\n",
    "print(t,'length=',len(t))\n",
    "\n"
   ]
  },
  {
   "cell_type": "code",
   "execution_count": 28,
   "metadata": {},
   "outputs": [
    {
     "name": "stdout",
     "output_type": "stream",
     "text": [
      "['a', 'b', 'c', 'd', 'e', 'f']\n",
      "['b', 'c', 'd', 'e', 'f']\n",
      "['a', 10, 20] length= 3\n"
     ]
    }
   ],
   "source": [
    "t=['a','b','c','d','e','f']\n",
    "print(t)\n",
    "print(t[1:10])\n",
    "t[1:10]=[10,20]\n",
    "print(t,'length=',len(t))"
   ]
  },
  {
   "cell_type": "code",
   "execution_count": 29,
   "metadata": {},
   "outputs": [
    {
     "name": "stdout",
     "output_type": "stream",
     "text": [
      "['a', 'b', 'c', 'd', 'e', 'f']\n",
      "['a', 'b', 'c', 'd', 'e', 'f']\n",
      "[10, 20]\n"
     ]
    }
   ],
   "source": [
    "t=['a','b','c','d','e','f']\n",
    "print(t)\n",
    "print(t[:40])\n",
    "t[:40]=[10,20]\n",
    "print(t)"
   ]
  },
  {
   "cell_type": "markdown",
   "metadata": {},
   "source": [
    "# Utility functions on Lists"
   ]
  },
  {
   "cell_type": "code",
   "execution_count": 37,
   "metadata": {},
   "outputs": [
    {
     "name": "stdout",
     "output_type": "stream",
     "text": [
      "length of list= 5\n",
      "maximum value 90\n",
      "minimum value -2\n",
      "Sum 160\n"
     ]
    }
   ],
   "source": [
    "ls = [23,45,-2,90,4]\n",
    "\n",
    "print(\"length of list=\",len(ls))\n",
    "print(\"maximum value\",max(ls))\n",
    "print(\"minimum value\",min(ls))\n",
    "print(\"Sum\",sum(ls))"
   ]
  },
  {
   "cell_type": "markdown",
   "metadata": {},
   "source": [
    "## List Methods\n",
    "- append(): Appends the argumnet as a single item\n",
    "- extend(): Extends the argument as a sequence of elements in it\n",
    "- sort(): sorts the list\n",
    "- pop(): removes element in paticular index position\n",
    "- reverse(): reverses th list\n",
    "- remove(): removes element given as argument\n",
    "- clear(): empties the list\n",
    "- count(): counts number of elements\n",
    "- insert(): inserts a given element\n",
    "- sorted(): returns sorted list without modifying the original list"
   ]
  },
  {
   "cell_type": "code",
   "execution_count": 38,
   "metadata": {},
   "outputs": [
    {
     "name": "stdout",
     "output_type": "stream",
     "text": [
      "[1, 2, 3, 4]\n"
     ]
    }
   ],
   "source": [
    "ls=[1,2,3]\n",
    "ls.append(4)\n",
    "print(ls)"
   ]
  },
  {
   "cell_type": "code",
   "execution_count": 39,
   "metadata": {},
   "outputs": [
    {
     "ename": "TypeError",
     "evalue": "'int' object is not iterable",
     "output_type": "error",
     "traceback": [
      "\u001b[1;31m---------------------------------------------------------------------------\u001b[0m",
      "\u001b[1;31mTypeError\u001b[0m                                 Traceback (most recent call last)",
      "\u001b[1;32m<ipython-input-39-ab6b675c9d82>\u001b[0m in \u001b[0;36m<module>\u001b[1;34m\u001b[0m\n\u001b[0;32m      1\u001b[0m \u001b[0mls\u001b[0m\u001b[1;33m=\u001b[0m\u001b[1;33m[\u001b[0m\u001b[1;36m1\u001b[0m\u001b[1;33m,\u001b[0m\u001b[1;36m2\u001b[0m\u001b[1;33m,\u001b[0m\u001b[1;36m3\u001b[0m\u001b[1;33m]\u001b[0m\u001b[1;33m\u001b[0m\u001b[1;33m\u001b[0m\u001b[0m\n\u001b[1;32m----> 2\u001b[1;33m \u001b[0mls\u001b[0m\u001b[1;33m.\u001b[0m\u001b[0mextend\u001b[0m\u001b[1;33m(\u001b[0m\u001b[1;36m4\u001b[0m\u001b[1;33m)\u001b[0m\u001b[1;33m\u001b[0m\u001b[1;33m\u001b[0m\u001b[0m\n\u001b[0m\u001b[0;32m      3\u001b[0m \u001b[0mprint\u001b[0m\u001b[1;33m(\u001b[0m\u001b[0mls\u001b[0m\u001b[1;33m)\u001b[0m\u001b[1;33m\u001b[0m\u001b[1;33m\u001b[0m\u001b[0m\n",
      "\u001b[1;31mTypeError\u001b[0m: 'int' object is not iterable"
     ]
    }
   ],
   "source": [
    "ls=[1,2,3]\n",
    "ls.extend(4)\n",
    "print(ls)"
   ]
  },
  {
   "cell_type": "code",
   "execution_count": 40,
   "metadata": {},
   "outputs": [
    {
     "name": "stdout",
     "output_type": "stream",
     "text": [
      "[1, 2, 3, 4]\n"
     ]
    }
   ],
   "source": [
    "ls=[1,2,3]\n",
    "ls.extend([4])\n",
    "print(ls)"
   ]
  },
  {
   "cell_type": "code",
   "execution_count": 41,
   "metadata": {
    "scrolled": true
   },
   "outputs": [
    {
     "name": "stdout",
     "output_type": "stream",
     "text": [
      "[5, 6, 1, 2, 3]\n",
      "[5, 6, [1, 2, 3]]\n"
     ]
    }
   ],
   "source": [
    "# append vs extend\n",
    "ls1=[1,2,3]\n",
    "ls2=[5,6]\n",
    "ls3=[5,6]\n",
    "ls2.extend(ls1)\n",
    "print(ls2)\n",
    "ls3.append(ls1)\n",
    "print(ls3)"
   ]
  },
  {
   "cell_type": "code",
   "execution_count": 42,
   "metadata": {},
   "outputs": [
    {
     "name": "stdout",
     "output_type": "stream",
     "text": [
      "[1, 2, 3, 'hello']\n",
      "[1, 2, 3, 'h', 'e', 'l', 'l', 'o']\n"
     ]
    }
   ],
   "source": [
    "# append vs extend 2\n",
    "ls1=[1,2,3]\n",
    "ls2=[1,2,3]\n",
    "ls1.append('hello')\n",
    "ls2.extend('hello')\n",
    "print(ls1)\n",
    "print(ls2)"
   ]
  },
  {
   "cell_type": "code",
   "execution_count": 46,
   "metadata": {},
   "outputs": [
    {
     "name": "stdout",
     "output_type": "stream",
     "text": [
      "[-3, 0, 4, 12, 13, 45]\n"
     ]
    }
   ],
   "source": [
    "# sorting  a list in ascending order\n",
    "ls=[4,12,-3,0,45,13]\n",
    "ls.sort()\n",
    "print(ls)\n",
    "?ls.sort()"
   ]
  },
  {
   "cell_type": "code",
   "execution_count": null,
   "metadata": {},
   "outputs": [],
   "source": [
    "# sorting a list in descending order\n",
    "ls=[4,12,-3,0,45,13]\n",
    "ls.sort(reverse=True)\n",
    "print(ls)"
   ]
  },
  {
   "cell_type": "code",
   "execution_count": 47,
   "metadata": {},
   "outputs": [
    {
     "name": "stdout",
     "output_type": "stream",
     "text": [
      "Original: [4, 12, -3, 0, 45, 13]\n",
      "Sorted: [-3, 0, 4, 12, 13, 45]\n",
      "Reverse sorted: [45, 13, 12, 4, 0, -3]\n"
     ]
    }
   ],
   "source": [
    "# sorting without modifying original object\n",
    "ls=[4,12,-3,0,45,13]\n",
    "ls1=sorted(ls)\n",
    "ls2=sorted(ls,reverse=True)\n",
    "print('Original:',ls)\n",
    "print('Sorted:',ls1)\n",
    "print('Reverse sorted:',ls2)"
   ]
  },
  {
   "cell_type": "code",
   "execution_count": 48,
   "metadata": {},
   "outputs": [
    {
     "name": "stdout",
     "output_type": "stream",
     "text": [
      "c\n",
      "['a', 'b', 'd', 'e', 'f', 'g', 'h', 'i', 'j', 'k', 'l', 'm', 'n', 'o']\n"
     ]
    }
   ],
   "source": [
    "txt=list('abcdefghijklmno')\n",
    "print(txt.pop(2))\n",
    "print(txt)"
   ]
  },
  {
   "cell_type": "code",
   "execution_count": 49,
   "metadata": {},
   "outputs": [
    {
     "name": "stdout",
     "output_type": "stream",
     "text": [
      "[12, 31, -5, 110]\n"
     ]
    }
   ],
   "source": [
    "# Reverse a list\n",
    "ls=[110,-5,31,12]\n",
    "ls.reverse()\n",
    "print(ls)"
   ]
  },
  {
   "cell_type": "code",
   "execution_count": 50,
   "metadata": {},
   "outputs": [
    {
     "name": "stdout",
     "output_type": "stream",
     "text": [
      "5\n"
     ]
    }
   ],
   "source": [
    "# Deleting elements from the list based on index\n",
    "ls=[1,2,10,4,-5,'hi',3,4,5]\n",
    "x=ls.pop()\n",
    "print(x)"
   ]
  },
  {
   "cell_type": "code",
   "execution_count": 56,
   "metadata": {},
   "outputs": [
    {
     "name": "stdout",
     "output_type": "stream",
     "text": [
      "4\n"
     ]
    }
   ],
   "source": [
    "ls=[1,2,10,4,-5,'hi',3,4,5]\n",
    "x=ls.pop(3)\n",
    "print(x)"
   ]
  },
  {
   "cell_type": "code",
   "execution_count": 54,
   "metadata": {},
   "outputs": [
    {
     "name": "stdout",
     "output_type": "stream",
     "text": [
      "[34, -4, 5, 65]\n"
     ]
    }
   ],
   "source": [
    "# delete a required element using remove()\n",
    "ls=[34,-4,5,12,65]\n",
    "ls.remove(12)\n",
    "print(ls)"
   ]
  },
  {
   "cell_type": "code",
   "execution_count": 57,
   "metadata": {},
   "outputs": [
    {
     "name": "stdout",
     "output_type": "stream",
     "text": [
      "[23, 35, 65, 12, 3.5, 'hi', 45]\n"
     ]
    }
   ],
   "source": [
    "# deleting more than one element using keyword del\n",
    "ls=[23,35,-4,65,12,3.5,'hi',45]\n",
    "del ls[2]\n",
    "print(ls)"
   ]
  },
  {
   "cell_type": "code",
   "execution_count": 58,
   "metadata": {},
   "outputs": [
    {
     "name": "stdout",
     "output_type": "stream",
     "text": [
      "[23, 12, 3.5, 'hi', 45]\n"
     ]
    }
   ],
   "source": [
    "# deleting more than one element using keyword del\n",
    "ls=[23,35,-4,65,12,3.5,'hi',45]\n",
    "del ls[1:4]\n",
    "print(ls)"
   ]
  },
  {
   "cell_type": "code",
   "execution_count": 59,
   "metadata": {},
   "outputs": [
    {
     "name": "stdout",
     "output_type": "stream",
     "text": [
      "[]\n"
     ]
    }
   ],
   "source": [
    "#clear all element from the list\n",
    "ls=[3,0,4]\n",
    "ls.clear()\n",
    "print(ls)"
   ]
  },
  {
   "cell_type": "code",
   "execution_count": 60,
   "metadata": {},
   "outputs": [
    {
     "name": "stdout",
     "output_type": "stream",
     "text": [
      "3\n"
     ]
    }
   ],
   "source": [
    "#counting the occurance of element\n",
    "ls=[1,2,3,4,2,34,45,2,12,6]\n",
    "x=ls.count(2)\n",
    "print(x)"
   ]
  },
  {
   "cell_type": "code",
   "execution_count": 61,
   "metadata": {},
   "outputs": [
    {
     "name": "stdout",
     "output_type": "stream",
     "text": [
      "[1, 20, 35, -4, 56, 12]\n"
     ]
    }
   ],
   "source": [
    "#inserting single element at a required position\n",
    "ls=[1,20,-4,56,12]\n",
    "ls.insert(2,35)\n",
    "print(ls)"
   ]
  },
  {
   "cell_type": "code",
   "execution_count": 62,
   "metadata": {},
   "outputs": [
    {
     "name": "stdout",
     "output_type": "stream",
     "text": [
      "['Hello', 'How', 'are', 'you?']\n"
     ]
    }
   ],
   "source": [
    "# Getting list of strings from a sentence\n",
    "s='Hello How are you?'\n",
    "ls=s.split()\n",
    "print(ls)"
   ]
  },
  {
   "cell_type": "code",
   "execution_count": 58,
   "metadata": {},
   "outputs": [
    {
     "name": "stdout",
     "output_type": "stream",
     "text": [
      "['your name is ', ' this is #']\n"
     ]
    }
   ],
   "source": [
    "# Splitting date into dd mm yyyy\n",
    "s='your name is * this is #'\n",
    "ls=s.split('*')\n",
    "print(ls)\n"
   ]
  },
  {
   "cell_type": "code",
   "execution_count": 18,
   "metadata": {},
   "outputs": [
    {
     "name": "stdout",
     "output_type": "stream",
     "text": [
      "hello+how+are+you\n"
     ]
    }
   ],
   "source": [
    "ls=['hello','how','are','you']\n",
    "s='+'\n",
    "s1=s.join(ls)\n",
    "print(s1)"
   ]
  },
  {
   "cell_type": "markdown",
   "metadata": {},
   "source": [
    "## Exercise\n",
    "### Find the average and standard deviation of n integers. Procedure:\n",
    "- Read n as user input\n",
    "- Use for loop to read n number of different elements from keyboard.Create a list of all these elements\n",
    "- Find average value of all these numbers from a list\n",
    "- Iterate through the list appropriately to find standard deviation"
   ]
  },
  {
   "cell_type": "code",
   "execution_count": 44,
   "metadata": {},
   "outputs": [
    {
     "name": "stdout",
     "output_type": "stream",
     "text": [
      "Please enter the total amount of numbers: 4\n",
      "Please enter element: 1\n",
      "Please enter element: 2\n",
      "Please enter element: 3\n",
      "Please enter element: 4\n",
      "[1, 2, 3, 4]\n"
     ]
    }
   ],
   "source": [
    "import math\n",
    "n=int(input(\"Please enter the total amount of numbers: \"))\n",
    "\n",
    "numList = []\n",
    "for i in range(n):\n",
    "    elmnt=int(input(\"Please enter element: \"))\n",
    "    numList.append(elmnt)\n",
    "print(numList)\n",
    "average=sum(numList)/n\n",
    "print(\"Average=\",average)\n",
    "sumOfDiffSqd=0\n",
    "for i in numList:\n",
    "    sumOfDiffSqd+=(i-average)**2\n",
    "stdDev=math.sqrt(sumOfDiffSqd/average)\n",
    "print(\"standard deviation=\",stdDev)"
   ]
  },
  {
   "cell_type": "markdown",
   "metadata": {},
   "source": [
    "## List Comprehension\n",
    "- an easy and elegant way of creating lists\n",
    "- useful when you need to create a list with some conditions"
   ]
  },
  {
   "cell_type": "code",
   "execution_count": 47,
   "metadata": {},
   "outputs": [
    {
     "name": "stdout",
     "output_type": "stream",
     "text": [
      "[0, 1, 2, 3, 4, 5, 6, 7, 8, 9]\n"
     ]
    }
   ],
   "source": [
    "ls=[x for x in range(10)]\n",
    "print(ls)"
   ]
  },
  {
   "cell_type": "code",
   "execution_count": 48,
   "metadata": {},
   "outputs": [
    {
     "name": "stdout",
     "output_type": "stream",
     "text": [
      "[0, 2, 4, 6, 8]\n"
     ]
    }
   ],
   "source": [
    "ls=[x for x in range(10) if x%2==0]\n",
    "print(ls)"
   ]
  },
  {
   "cell_type": "code",
   "execution_count": 55,
   "metadata": {},
   "outputs": [
    {
     "name": "stdout",
     "output_type": "stream",
     "text": [
      "[6, 12, 2019]\n"
     ]
    }
   ],
   "source": [
    "d=\"06/12/2019\"\n",
    "ls=[int(i) for i in d.split('/')]\n",
    "print(ls)"
   ]
  },
  {
   "cell_type": "markdown",
   "metadata": {},
   "source": [
    "## Write a program to display all palindrome words appearing in an input text"
   ]
  },
  {
   "cell_type": "code",
   "execution_count": 71,
   "metadata": {},
   "outputs": [
    {
     "name": "stdout",
     "output_type": "stream",
     "text": [
      "Please enter some text: madam\n",
      "Palindromes in the entered text:  ['madam']\n"
     ]
    }
   ],
   "source": [
    "inputText=input(\"Please enter some text: \")\n",
    "ls=inputText.split()\n",
    "palList=[]\n",
    "for i in ls:   # for i in inputText.split()\n",
    "    if(i==i[::-1]):\n",
    "        palList.append(i)\n",
    "if(len(palList)==0):\n",
    "    print(\"No palindromes in the entered text\")\n",
    "else:\n",
    "    print(\"Palindromes in the entered text: \",palList)"
   ]
  },
  {
   "cell_type": "code",
   "execution_count": 65,
   "metadata": {},
   "outputs": [
    {
     "data": {
      "text/plain": [
       "[1, 1, 1]"
      ]
     },
     "execution_count": 65,
     "metadata": {},
     "output_type": "execute_result"
    }
   ],
   "source": [
    "s=[1,1,1]\n",
    "s[::-1]"
   ]
  },
  {
   "cell_type": "markdown",
   "metadata": {},
   "source": [
    "## A list rotation consists of taking the last element and moving it to the front. For instance, if we rotate the list [1,2,3,4,5], we get [5,1,2,3,4]. If we rotate again we get [4,5,1,2,3]. Write a python function rotatelist(ls,k) that takes a list ls and a positive integer k and returns the list ls after k rotations. If k is not positive, your function should return ls unchanged. Note that your function should not change ls itself and should return rotated list."
   ]
  },
  {
   "cell_type": "code",
   "execution_count": 39,
   "metadata": {},
   "outputs": [
    {
     "name": "stdout",
     "output_type": "stream",
     "text": [
      "Please enter no of elements in list: 5\n",
      "Please enter an element: 1\n",
      "Please enter an element: 2\n",
      "Please enter an element: 3\n",
      "Please enter an element: 4\n",
      "Please enter an element: 5\n",
      "Please enter no of rotations: 12\n",
      "Original list [1, 2, 3, 4, 5]\n",
      "List after 12 rotations: [4, 5, 1, 2, 3]\n"
     ]
    }
   ],
   "source": [
    "def rotatelist(ls,k):\n",
    "    if k<0:\n",
    "        return ls\n",
    "    else:\n",
    "        for i in range(k):\n",
    "            ls=[ls[-1]]+ls[:-1]\n",
    "        return ls                \n",
    "\n",
    "n=int(input(\"Please enter no of elements in list: \"))\n",
    "ls=[]\n",
    "for i in range(n):\n",
    "    element=int(input(\"Please enter an element: \"))\n",
    "    ls.append(element)\n",
    "k= int(input(\"Please enter no of rotations: \"))\n",
    "output=rotatelist(ls,k)\n",
    "print(\"Original list\",ls)\n",
    "print(\"List after\",k,\"rotations:\",output)"
   ]
  },
  {
   "cell_type": "code",
   "execution_count": null,
   "metadata": {},
   "outputs": [],
   "source": [
    "def rotatelist(l,k):\n",
    "    mylist=[:]\n",
    "    for i in range(0,k):\n",
    "        mylist=[mylist[-1]]+mylist[0:-1]\n",
    "    return mylist"
   ]
  },
  {
   "cell_type": "code",
   "execution_count": null,
   "metadata": {},
   "outputs": [],
   "source": [
    "  ls=[1,2,3,4,5]\n",
    "for i in range(1):\n",
    "  \n",
    "    ls=[ls[-1]]+ls[:-1]\n",
    "    print(ls)"
   ]
  },
  {
   "cell_type": "markdown",
   "metadata": {},
   "source": [
    "## Define a python function ascending(ls) that returns True if each element in its input list is at least as big as the one before it. For empty list, it should be True"
   ]
  },
  {
   "cell_type": "code",
   "execution_count": 11,
   "metadata": {},
   "outputs": [
    {
     "name": "stdout",
     "output_type": "stream",
     "text": [
      "Enter no of elements: 4\n",
      "Please enter a number: 7\n",
      "Please enter a number: 18\n",
      "Please enter a number: 17\n",
      "Please enter a number: 19\n",
      "Output: False\n"
     ]
    }
   ],
   "source": [
    "def ascending(ls):\n",
    "    if len(ls)==0:\n",
    "        return True\n",
    "    else:\n",
    "        for i in range(len(ls)-1):\n",
    "            if(ls[i+1]<ls[i]):\n",
    "                return False\n",
    "        return True\n",
    "\n",
    "n=int(input(\"Enter no of elements: \"))\n",
    "ls=[]\n",
    "for i in range(n):\n",
    "    num=int(input(\"Please enter a number: \"))\n",
    "    ls.append(num)\n",
    "print(\"Output:\",ascending(ls))"
   ]
  },
  {
   "cell_type": "markdown",
   "metadata": {},
   "source": [
    "## Define a Python function alternating(ls) that returns True if the values in the input list alternatively go up and down (in a strict manner). For empty list it should be true"
   ]
  },
  {
   "cell_type": "code",
   "execution_count": 38,
   "metadata": {},
   "outputs": [
    {
     "name": "stdout",
     "output_type": "stream",
     "text": [
      "Enter no of elements: 6\n",
      "Please enter a number: 1\n",
      "Please enter a number: 3\n",
      "Please enter a number: 2\n",
      "Please enter a number: 3\n",
      "Please enter a number: 1\n",
      "Please enter a number: 5\n",
      "Output: True\n"
     ]
    }
   ],
   "source": [
    "def alternating(ls):\n",
    "    if(len(ls)<2):\n",
    "        return True\n",
    "    else:\n",
    "        if(ls[0]>ls[1]):\n",
    "            for i in range(len(ls)-2):\n",
    "                if(ls[i]>ls[i+1] and ls[i+1]>=ls[i+2]):\n",
    "                    return False\n",
    "            return True\n",
    "        elif(ls[0]<ls[1]):\n",
    "            for i in range(len(ls)-2):\n",
    "                if(ls[i]<ls[i+1] and ls[i+1]<=ls[i+2]):\n",
    "                    return False\n",
    "            return True\n",
    "        else:\n",
    "            return False\n",
    "\n",
    "n=int(input(\"Enter no of elements: \"))\n",
    "ls=[]\n",
    "for i in range(n):\n",
    "    num=int(input(\"Please enter a number: \"))\n",
    "    ls.append(num)\n",
    "print(\"Output:\",alternating(ls))"
   ]
  },
  {
   "cell_type": "code",
   "execution_count": null,
   "metadata": {},
   "outputs": [],
   "source": [
    "def alternating(ls):\n",
    "    for i in range (len(ls)-2):\n",
    "        if ls[i]<ls[i+1]:\n",
    "            if ls[i+1]>ls[i+2]:\n",
    "                continue\n",
    "            else:\n",
    "                return False\n",
    "        elif ls[i]>ls[i+1]:\n",
    "            if ls[i+1]>ls[i+2]:\n",
    "                continue\n",
    "            else:\n",
    "                return False\n",
    "        else:\n",
    "            return False\n",
    "    return True"
   ]
  }
 ],
 "metadata": {
  "kernelspec": {
   "display_name": "Python 3",
   "language": "python",
   "name": "python3"
  },
  "language_info": {
   "codemirror_mode": {
    "name": "ipython",
    "version": 3
   },
   "file_extension": ".py",
   "mimetype": "text/x-python",
   "name": "python",
   "nbconvert_exporter": "python",
   "pygments_lexer": "ipython3",
   "version": "3.9.1"
  }
 },
 "nbformat": 4,
 "nbformat_minor": 2
}
