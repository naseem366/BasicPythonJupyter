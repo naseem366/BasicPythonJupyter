{
 "cells": [
  {
   "cell_type": "markdown",
   "metadata": {},
   "source": [
    "## Set\n",
    "- set is a collection of elements\n",
    "- No duplicate entries are allowed\n",
    "- Set object cannot be indexed\n",
    "- Sets are mutable data structure"
   ]
  },
  {
   "cell_type": "code",
   "execution_count": 1,
   "metadata": {},
   "outputs": [
    {
     "name": "stdout",
     "output_type": "stream",
     "text": [
      "<class 'set'>\n"
     ]
    }
   ],
   "source": [
    "# Creating a simple set\n",
    "st= {'Apple','Banana','Orange'}\n",
    "print(type(st))"
   ]
  },
  {
   "cell_type": "code",
   "execution_count": 3,
   "metadata": {
    "scrolled": true
   },
   "outputs": [
    {
     "name": "stdout",
     "output_type": "stream",
     "text": [
      "<class 'set'>\n"
     ]
    },
    {
     "data": {
      "text/plain": [
       "['__and__',\n",
       " '__class__',\n",
       " '__class_getitem__',\n",
       " '__contains__',\n",
       " '__delattr__',\n",
       " '__dir__',\n",
       " '__doc__',\n",
       " '__eq__',\n",
       " '__format__',\n",
       " '__ge__',\n",
       " '__getattribute__',\n",
       " '__gt__',\n",
       " '__hash__',\n",
       " '__iand__',\n",
       " '__init__',\n",
       " '__init_subclass__',\n",
       " '__ior__',\n",
       " '__isub__',\n",
       " '__iter__',\n",
       " '__ixor__',\n",
       " '__le__',\n",
       " '__len__',\n",
       " '__lt__',\n",
       " '__ne__',\n",
       " '__new__',\n",
       " '__or__',\n",
       " '__rand__',\n",
       " '__reduce__',\n",
       " '__reduce_ex__',\n",
       " '__repr__',\n",
       " '__ror__',\n",
       " '__rsub__',\n",
       " '__rxor__',\n",
       " '__setattr__',\n",
       " '__sizeof__',\n",
       " '__str__',\n",
       " '__sub__',\n",
       " '__subclasshook__',\n",
       " '__xor__',\n",
       " 'add',\n",
       " 'clear',\n",
       " 'copy',\n",
       " 'difference',\n",
       " 'difference_update',\n",
       " 'discard',\n",
       " 'intersection',\n",
       " 'intersection_update',\n",
       " 'isdisjoint',\n",
       " 'issubset',\n",
       " 'issuperset',\n",
       " 'pop',\n",
       " 'remove',\n",
       " 'symmetric_difference',\n",
       " 'symmetric_difference_update',\n",
       " 'union',\n",
       " 'update']"
      ]
     },
     "execution_count": 3,
     "metadata": {},
     "output_type": "execute_result"
    }
   ],
   "source": [
    "# Create empty set\n",
    "s=set()\n",
    "print(type(s))\n",
    "dir(set)"
   ]
  },
  {
   "cell_type": "code",
   "execution_count": 5,
   "metadata": {},
   "outputs": [
    {
     "name": "stdout",
     "output_type": "stream",
     "text": [
      "{'Apple', 'Orange', 'Banana'}\n"
     ]
    }
   ],
   "source": [
    "print(st)"
   ]
  },
  {
   "cell_type": "code",
   "execution_count": 7,
   "metadata": {},
   "outputs": [
    {
     "ename": "TypeError",
     "evalue": "'set' object is not subscriptable",
     "output_type": "error",
     "traceback": [
      "\u001b[1;31m---------------------------------------------------------------------------\u001b[0m",
      "\u001b[1;31mTypeError\u001b[0m                                 Traceback (most recent call last)",
      "\u001b[1;32m<ipython-input-7-17c0052408b5>\u001b[0m in \u001b[0;36m<module>\u001b[1;34m\u001b[0m\n\u001b[0;32m      1\u001b[0m \u001b[1;31m# set cannot be indexed\u001b[0m\u001b[1;33m\u001b[0m\u001b[1;33m\u001b[0m\u001b[1;33m\u001b[0m\u001b[0m\n\u001b[1;32m----> 2\u001b[1;33m \u001b[0mst\u001b[0m\u001b[1;33m[\u001b[0m\u001b[1;36m0\u001b[0m\u001b[1;33m]\u001b[0m\u001b[1;33m\u001b[0m\u001b[1;33m\u001b[0m\u001b[0m\n\u001b[0m",
      "\u001b[1;31mTypeError\u001b[0m: 'set' object is not subscriptable"
     ]
    }
   ],
   "source": [
    "# set cannot be indexed\n",
    "st[0]"
   ]
  },
  {
   "cell_type": "code",
   "execution_count": 8,
   "metadata": {},
   "outputs": [
    {
     "name": "stdout",
     "output_type": "stream",
     "text": [
      "{'Apple', 'Orange', 'Cherry', 'Banana'}\n"
     ]
    }
   ],
   "source": [
    "#add element to set\n",
    "st.add('Cherry')\n",
    "print(st)"
   ]
  },
  {
   "cell_type": "code",
   "execution_count": 9,
   "metadata": {},
   "outputs": [
    {
     "name": "stdout",
     "output_type": "stream",
     "text": [
      "{'Apple', 'Orange', 'Cherry'}\n"
     ]
    }
   ],
   "source": [
    "#remove elements from set\n",
    "st.remove('Banana')\n",
    "print(st)"
   ]
  },
  {
   "cell_type": "code",
   "execution_count": 10,
   "metadata": {},
   "outputs": [
    {
     "name": "stdout",
     "output_type": "stream",
     "text": [
      "{'papaya', 'Banana', 'Apple', 'Orange', 'Cherry'}\n"
     ]
    }
   ],
   "source": [
    "# adding more than one element at a time\n",
    "st = {'Apple','Banana','Orange'}\n",
    "st.update(['Cherry','papaya'])\n",
    "print(st)"
   ]
  },
  {
   "cell_type": "code",
   "execution_count": 11,
   "metadata": {},
   "outputs": [
    {
     "name": "stdout",
     "output_type": "stream",
     "text": [
      "{'Apple', 'Orange', 'Banana'}\n"
     ]
    }
   ],
   "source": [
    "#Sets will not allow duplication of data elements\n",
    "st={'Apple','Banana','Orange','Banana'}\n",
    "print(st)"
   ]
  },
  {
   "cell_type": "code",
   "execution_count": 13,
   "metadata": {},
   "outputs": [
    {
     "name": "stdout",
     "output_type": "stream",
     "text": [
      "{'Banana', 'Apple', 'Orange'}\n",
      "['Banana', 'Apple', 'Orange']\n"
     ]
    }
   ],
   "source": [
    "# Write a program to eliminate repeated entries in alist and keep a single copy of each element\n",
    "l=['Apple','Banana','Orange','Banana','Apple']\n",
    "s=set(l)\n",
    "print(s)\n",
    "l=list(s)\n",
    "print(l)"
   ]
  },
  {
   "cell_type": "code",
   "execution_count": 14,
   "metadata": {},
   "outputs": [
    {
     "name": "stdout",
     "output_type": "stream",
     "text": [
      "Orange\n"
     ]
    }
   ],
   "source": [
    "# Extracting any one element from the set using lists\n",
    "item=list(st)[2]\n",
    "print(item)"
   ]
  },
  {
   "cell_type": "code",
   "execution_count": 15,
   "metadata": {},
   "outputs": [
    {
     "name": "stdout",
     "output_type": "stream",
     "text": [
      "Banana\n",
      "Apple\n",
      "Orange\n"
     ]
    }
   ],
   "source": [
    "#set is an iterable object\n",
    "for i in st:\n",
    "    print(i)"
   ]
  },
  {
   "cell_type": "markdown",
   "metadata": {},
   "source": [
    "## Lambda Functions\n",
    "- An anonymous user-defined function used to perform simple tasks\n",
    "- Mostly one-liner codes\n",
    "- Useful while performing map, reduce, filter operations\n",
    "- Useful in sorting based on a key"
   ]
  },
  {
   "cell_type": "code",
   "execution_count": 1,
   "metadata": {},
   "outputs": [
    {
     "name": "stdout",
     "output_type": "stream",
     "text": [
      "15\n",
      "13.6\n"
     ]
    }
   ],
   "source": [
    "# Simple example of Lambda function\n",
    "x= lambda a: a+10\n",
    "print(x(5))\n",
    "print(x(3.6))"
   ]
  },
  {
   "cell_type": "code",
   "execution_count": 2,
   "metadata": {},
   "outputs": [
    {
     "name": "stdout",
     "output_type": "stream",
     "text": [
      "200\n",
      "20\n",
      "-8\n"
     ]
    }
   ],
   "source": [
    "# Lambda function with two arguments\n",
    "x= lambda a,b: a*b\n",
    "print(x(10,20))\n",
    "print(x(4,5))\n",
    "print(x(2,-4))"
   ]
  },
  {
   "cell_type": "code",
   "execution_count": 5,
   "metadata": {},
   "outputs": [
    {
     "name": "stdout",
     "output_type": "stream",
     "text": [
      "[5, 7, 97, 77, 23]\n"
     ]
    }
   ],
   "source": [
    "# Lambda function with filter() to get only odd numbers\n",
    "ls=[5,7,22,97,54,62,77,23]\n",
    "final_list=list(filter(lambda x:(x%2!=0),ls))\n",
    "print(final_list)"
   ]
  },
  {
   "cell_type": "code",
   "execution_count": 11,
   "metadata": {},
   "outputs": [
    {
     "name": "stdout",
     "output_type": "stream",
     "text": [
      "['Hi']\n"
     ]
    }
   ],
   "source": [
    "#extract the words from a string those having length as 3\n",
    "s=\"Hi how are you doing?\"\n",
    "fi_list=list(filter(lambda x:(len(x)==2),s.split()))\n",
    "print(fi_list)"
   ]
  },
  {
   "cell_type": "code",
   "execution_count": 12,
   "metadata": {},
   "outputs": [
    {
     "data": {
      "text/plain": [
       "['Hi', 'how', 'are', 'you', 'doing?']"
      ]
     },
     "execution_count": 12,
     "metadata": {},
     "output_type": "execute_result"
    }
   ],
   "source": [
    "s.split()"
   ]
  },
  {
   "cell_type": "code",
   "execution_count": 36,
   "metadata": {},
   "outputs": [
    {
     "name": "stdout",
     "output_type": "stream",
     "text": [
      "['how']\n"
     ]
    }
   ],
   "source": [
    "# extract the words from a string which are starting with 'h'\n",
    "f_list=list(filter(lambda x:(x[0]=='h'),s.split()))\n",
    "print(f_list)"
   ]
  },
  {
   "cell_type": "markdown",
   "metadata": {},
   "source": [
    "## Exercise\n",
    "### Write a python function histogram() that takes as input a list of integers with repetitions and returns a list of pairs as follows : for each number n that appears in ls , there should be exactly one pair(n,r) in the list returned by the function, where r is the number of repetitions of n in ls. Th final lis should be sorted in ascending order by r, the number of repetitions. For numbers that occur with same number of repetitions, arrange the pairs in ascending order of the value of the number."
   ]
  },
  {
   "cell_type": "code",
   "execution_count": 15,
   "metadata": {},
   "outputs": [
    {
     "name": "stdout",
     "output_type": "stream",
     "text": [
      "[(1, 11), (2, 7), (2, 12), (2, 14), (4, 13)]\n"
     ]
    }
   ],
   "source": [
    "ls =[13,12,11,13,14,13,7,7,13,14,12]\n",
    "def histogram(l):\n",
    "    s=set(l)   \n",
    "    l2=[]\n",
    "    t=()\n",
    "    for i in s:\n",
    "        l2.append((l.count(i),i))\n",
    "    l2.sort()\n",
    "  \n",
    "    return l2\n",
    "\n",
    "print(histogram(ls))\n",
    "        "
   ]
  },
  {
   "cell_type": "code",
   "execution_count": 14,
   "metadata": {},
   "outputs": [
    {
     "name": "stdout",
     "output_type": "stream",
     "text": [
      "Object `d.update` not found.\n"
     ]
    }
   ],
   "source": [
    "?d.update"
   ]
  },
  {
   "cell_type": "code",
   "execution_count": 56,
   "metadata": {},
   "outputs": [
    {
     "name": "stdout",
     "output_type": "stream",
     "text": [
      "[25, 49, 484, 9409, 2916, 3844, 5929, 529, 5329, 3721]\n"
     ]
    }
   ],
   "source": [
    "# lambda function with map()\n",
    "ls = [5,7,22,97,54,62,77,23,73,61]\n",
    "final_list=list(map(lambda x:x**2,ls))\n",
    "print(final_list)"
   ]
  },
  {
   "cell_type": "code",
   "execution_count": 63,
   "metadata": {},
   "outputs": [
    {
     "name": "stdout",
     "output_type": "stream",
     "text": [
      "['HI', 'HOW', 'ARE', 'YOU']\n"
     ]
    }
   ],
   "source": [
    "# converting list of strings into uppercase using map()\n",
    "ls=['hi','how','are','You']\n",
    "final_list=list(map(lambda x:x.upper(),ls))\n",
    "print(final_list)"
   ]
  },
  {
   "cell_type": "code",
   "execution_count": 64,
   "metadata": {},
   "outputs": [
    {
     "name": "stdout",
     "output_type": "stream",
     "text": [
      "193\n"
     ]
    }
   ],
   "source": [
    "#lambda function with reduce()\n",
    "from functools import reduce\n",
    "ls=[5,8,10,20,50,100]\n",
    "total=reduce((lambda x,y: x+y),ls)\n",
    "print(total)"
   ]
  },
  {
   "cell_type": "code",
   "execution_count": 68,
   "metadata": {},
   "outputs": [
    {
     "name": "stdout",
     "output_type": "stream",
     "text": [
      "hi how are You\n"
     ]
    }
   ],
   "source": [
    "# Write a program to create concatenation of strings in a list\n",
    "ls=['hi','how','are','You']\n",
    "cncat=reduce((lambda x,y:x+' '+y),ls)\n",
    "print(cncat)"
   ]
  },
  {
   "cell_type": "markdown",
   "metadata": {},
   "source": [
    "## Exception Handling\n",
    "- Run-time errors are known as exception\n",
    "- Whenever an error occurs during runtime, the system throws the error with sustem-generated error message. The programmer must write a code to prevent this and display a proper message, so that the user can understand the exact cause of the error.\n",
    "- Note that, run-time errors cannot be prevented most of the times\n",
    "- One can write remedial actions when such error occurs.\n",
    "- Examples for run-time errors:\n",
    "    - Division by zero (Arithmentic Exception)\n",
    "    - Index out of bound (while accessing a list, string etc)\n",
    "    - Key error (trying to extract non-existing key from dictionary)\n",
    "    - File not found (Trying to open a file which is not there in the current path)\n",
    "    - Database errors like connection issues,privilege issues etc\n",
    "- In Python, exceptions are handled using keywords $try$ and $except$\n",
    "- The $try$ block includes the suspicious code that may cause run-time error\n",
    "- The $except$ block includes the code indicating cause of the error, remedial actions etc"
   ]
  },
  {
   "cell_type": "code",
   "execution_count": 11,
   "metadata": {},
   "outputs": [
    {
     "name": "stdout",
     "output_type": "stream",
     "text": [
      "enter a number45\n",
      "enter a number 0\n",
      "can't be division by zero\n"
     ]
    }
   ],
   "source": [
    "try:\n",
    "    x = int(input(\"enter a number\"))\n",
    "    y = int(input(\"enter a number \"))\n",
    "    z = x/y \n",
    "except:\n",
    "    print(\"can't be division by zero\")"
   ]
  },
  {
   "cell_type": "code",
   "execution_count": 6,
   "metadata": {},
   "outputs": [
    {
     "name": "stdout",
     "output_type": "stream",
     "text": [
      "enter your nameNagendra @\n"
     ]
    }
   ],
   "source": [
    "name=input(\"enter your name\")"
   ]
  },
  {
   "cell_type": "code",
   "execution_count": 69,
   "metadata": {},
   "outputs": [
    {
     "name": "stdout",
     "output_type": "stream",
     "text": [
      "Enter a: 3\n",
      "Enter b: 0\n",
      "Division by zero is not possible!\n",
      "Program Over!\n"
     ]
    }
   ],
   "source": [
    "# Approach-1 for handling division by 0\n",
    "a=int(input('Enter a: '))\n",
    "b=int(input('Enter b: '))\n",
    "try:\n",
    "    x=a/b\n",
    "    print('Division is: ',x)\n",
    "except:\n",
    "    print('Division by zero is not possible!')\n",
    "    #exit()  - this will close the kernel in jupyter-notebook\n",
    "    \n",
    "print('Program Over!')"
   ]
  },
  {
   "cell_type": "code",
   "execution_count": 17,
   "metadata": {},
   "outputs": [
    {
     "name": "stdout",
     "output_type": "stream",
     "text": [
      "Enter a: 45\n",
      "Enter b: 0\n",
      "Division by zero is not possible, Enter b again\n",
      "this will execute no matter what\n"
     ]
    },
    {
     "ename": "KeyboardInterrupt",
     "evalue": "Interrupted by user",
     "output_type": "error",
     "traceback": [
      "\u001b[1;31m---------------------------------------------------------------------------\u001b[0m",
      "\u001b[1;31mKeyboardInterrupt\u001b[0m                         Traceback (most recent call last)",
      "\u001b[1;32m<ipython-input-17-c8e5d24cde84>\u001b[0m in \u001b[0;36m<module>\u001b[1;34m\u001b[0m\n\u001b[0;32m      3\u001b[0m \u001b[1;33m\u001b[0m\u001b[0m\n\u001b[0;32m      4\u001b[0m \u001b[1;32mwhile\u001b[0m \u001b[1;32mTrue\u001b[0m\u001b[1;33m:\u001b[0m\u001b[1;33m\u001b[0m\u001b[1;33m\u001b[0m\u001b[0m\n\u001b[1;32m----> 5\u001b[1;33m     \u001b[0mb\u001b[0m\u001b[1;33m=\u001b[0m\u001b[0mint\u001b[0m\u001b[1;33m(\u001b[0m\u001b[0minput\u001b[0m\u001b[1;33m(\u001b[0m\u001b[1;34m'Enter b: '\u001b[0m\u001b[1;33m)\u001b[0m\u001b[1;33m)\u001b[0m\u001b[1;33m\u001b[0m\u001b[1;33m\u001b[0m\u001b[0m\n\u001b[0m\u001b[0;32m      6\u001b[0m     \u001b[1;32mtry\u001b[0m\u001b[1;33m:\u001b[0m\u001b[1;33m\u001b[0m\u001b[1;33m\u001b[0m\u001b[0m\n\u001b[0;32m      7\u001b[0m         \u001b[0mx\u001b[0m\u001b[1;33m=\u001b[0m\u001b[0ma\u001b[0m\u001b[1;33m/\u001b[0m\u001b[0mb\u001b[0m\u001b[1;33m\u001b[0m\u001b[1;33m\u001b[0m\u001b[0m\n",
      "\u001b[1;32mc:\\users\\aryan\\appdata\\local\\programs\\python\\python39\\lib\\site-packages\\ipykernel\\kernelbase.py\u001b[0m in \u001b[0;36mraw_input\u001b[1;34m(self, prompt)\u001b[0m\n\u001b[0;32m    855\u001b[0m                 \u001b[1;34m\"raw_input was called, but this frontend does not support input requests.\"\u001b[0m\u001b[1;33m\u001b[0m\u001b[1;33m\u001b[0m\u001b[0m\n\u001b[0;32m    856\u001b[0m             )\n\u001b[1;32m--> 857\u001b[1;33m         return self._input_request(str(prompt),\n\u001b[0m\u001b[0;32m    858\u001b[0m             \u001b[0mself\u001b[0m\u001b[1;33m.\u001b[0m\u001b[0m_parent_ident\u001b[0m\u001b[1;33m,\u001b[0m\u001b[1;33m\u001b[0m\u001b[1;33m\u001b[0m\u001b[0m\n\u001b[0;32m    859\u001b[0m             \u001b[0mself\u001b[0m\u001b[1;33m.\u001b[0m\u001b[0m_parent_header\u001b[0m\u001b[1;33m,\u001b[0m\u001b[1;33m\u001b[0m\u001b[1;33m\u001b[0m\u001b[0m\n",
      "\u001b[1;32mc:\\users\\aryan\\appdata\\local\\programs\\python\\python39\\lib\\site-packages\\ipykernel\\kernelbase.py\u001b[0m in \u001b[0;36m_input_request\u001b[1;34m(self, prompt, ident, parent, password)\u001b[0m\n\u001b[0;32m    899\u001b[0m             \u001b[1;32mexcept\u001b[0m \u001b[0mKeyboardInterrupt\u001b[0m\u001b[1;33m:\u001b[0m\u001b[1;33m\u001b[0m\u001b[1;33m\u001b[0m\u001b[0m\n\u001b[0;32m    900\u001b[0m                 \u001b[1;31m# re-raise KeyboardInterrupt, to truncate traceback\u001b[0m\u001b[1;33m\u001b[0m\u001b[1;33m\u001b[0m\u001b[1;33m\u001b[0m\u001b[0m\n\u001b[1;32m--> 901\u001b[1;33m                 \u001b[1;32mraise\u001b[0m \u001b[0mKeyboardInterrupt\u001b[0m\u001b[1;33m(\u001b[0m\u001b[1;34m\"Interrupted by user\"\u001b[0m\u001b[1;33m)\u001b[0m \u001b[1;32mfrom\u001b[0m \u001b[1;32mNone\u001b[0m\u001b[1;33m\u001b[0m\u001b[1;33m\u001b[0m\u001b[0m\n\u001b[0m\u001b[0;32m    902\u001b[0m             \u001b[1;32mexcept\u001b[0m \u001b[0mException\u001b[0m \u001b[1;32mas\u001b[0m \u001b[0me\u001b[0m\u001b[1;33m:\u001b[0m\u001b[1;33m\u001b[0m\u001b[1;33m\u001b[0m\u001b[0m\n\u001b[0;32m    903\u001b[0m                 \u001b[0mself\u001b[0m\u001b[1;33m.\u001b[0m\u001b[0mlog\u001b[0m\u001b[1;33m.\u001b[0m\u001b[0mwarning\u001b[0m\u001b[1;33m(\u001b[0m\u001b[1;34m\"Invalid Message:\"\u001b[0m\u001b[1;33m,\u001b[0m \u001b[0mexc_info\u001b[0m\u001b[1;33m=\u001b[0m\u001b[1;32mTrue\u001b[0m\u001b[1;33m)\u001b[0m\u001b[1;33m\u001b[0m\u001b[1;33m\u001b[0m\u001b[0m\n",
      "\u001b[1;31mKeyboardInterrupt\u001b[0m: Interrupted by user"
     ]
    }
   ],
   "source": [
    "# Approach-2 for handling division by 0\n",
    "a=int(input('Enter a: '))\n",
    "\n",
    "while True:\n",
    "    b=int(input('Enter b: '))\n",
    "    try:\n",
    "        x=a/b\n",
    "        break\n",
    "    except:\n",
    "        print('Division by zero is not possible, Enter b again')\n",
    "    finally:\n",
    "        print('this will execute no matter what')\n",
    "        \n",
    "print('Division is: ',x)\n",
    "print('Program over')"
   ]
  },
  {
   "cell_type": "markdown",
   "metadata": {},
   "source": [
    "## File Handling\n",
    "- Reading data from the files is a part of programming\n",
    "- To read the data from file in unstructured format (like .txt), we will use function open()\n",
    "- The $open()$ function takes two arguments:\n",
    "    - Name of the file (with path, if required)\n",
    "    - Mode of opening a file\n",
    "- The purpose of opening a file is called as $file$ $opening$ $mode$\n",
    "    - r: for read (default mode)\n",
    "    - w: for write\n",
    "    - a: for append\n",
    "- The $open()$ function returns a file-handler through which we can perform operations on files\n",
    "- The file handler works as an iterator and hence we can loop over it\n",
    "- The $read()$ function:\n",
    "    - It reads a file and returns entire content of the file as a single string\n",
    "    - If the file has a very huge content, then storing the data as a single string is not advisable, as it may lead to shortage of memory\n",
    "    - hence this function can be used only for smaller files\n",
    "- The $close()$ function:\n",
    "    - A file which has been opened must be closed at the end of the program\n",
    "    - This will safeguard the file from being corrupted and ensure proper maintenance"
   ]
  },
  {
   "cell_type": "code",
   "execution_count": 31,
   "metadata": {},
   "outputs": [
    {
     "name": "stdout",
     "output_type": "stream",
     "text": [
      "file open success\n"
     ]
    }
   ],
   "source": [
    "try:\n",
    "    file= open('f1.txt', 'r',encoding='utf-8')\n",
    "    print(\"file open success\")\n",
    "except:\n",
    "    print(\"file not opening\")\n"
   ]
  },
  {
   "cell_type": "code",
   "execution_count": 35,
   "metadata": {},
   "outputs": [
    {
     "name": "stdout",
     "output_type": "stream",
     "text": [
      "File opened successfully\n",
      "Reading data from the files is a part of programming\n",
      "To read the data from file in unstructured format (like .txt), we will use function open()\n",
      "The  open()  function takes two arguments:\n",
      "To Name of the file (with path, if required)\n",
      "Mode of opening a file"
     ]
    }
   ],
   "source": [
    "# Example to open a file and display the file contents\n",
    "try:\n",
    "    fhand=open('myfile.txt','r')\n",
    "    print('File opened successfully')\n",
    "except:\n",
    "    print('File cannot be opened')\n",
    "    #exit\n",
    "for line in fhand:\n",
    "    print(line,end='')\n",
    "\n",
    "fhand.close()"
   ]
  },
  {
   "cell_type": "code",
   "execution_count": null,
   "metadata": {},
   "outputs": [],
   "source": []
  },
  {
   "cell_type": "code",
   "execution_count": 37,
   "metadata": {},
   "outputs": [
    {
     "name": "stdout",
     "output_type": "stream",
     "text": [
      "File opened successfully\n",
      "No of lines: 5\n"
     ]
    }
   ],
   "source": [
    "count=0;\n",
    "try:\n",
    "    fhand=open('myfile.txt','r')\n",
    "    print('File opened successfully')\n",
    "except:\n",
    "    print('File cannot be opened or error')\n",
    "    #exit\n",
    "\n",
    "for line in fhand:\n",
    "    count+=1\n",
    "\n",
    "print(\"No of lines:\",count)\n",
    "fhand.close()"
   ]
  },
  {
   "cell_type": "code",
   "execution_count": 45,
   "metadata": {},
   "outputs": [
    {
     "name": "stdout",
     "output_type": "stream",
     "text": [
      "<class 'str'>\n",
      "254\n",
      "The file contents are: Reading data from the files is a part of programming\n",
      "To read the data from file in unstructured format (like .txt), we will use function open()\n",
      "The  open()  function takes two arguments:\n",
      "To Name of the file (with path, if required)\n",
      "Mode of opening a file\n",
      "The first 20 characters of the file are: ng\n",
      "To read the data from file in unstructured form\n"
     ]
    }
   ],
   "source": [
    "# Usage of read() function. This will read whole file as a single string and store it into a variable of the program\n",
    "try:\n",
    "    fhand=open('myfile.txt')\n",
    "except:\n",
    "    print('File cannot be opened')\n",
    "    #exit\n",
    "\n",
    "s=fhand.read()\n",
    "print(type(s))\n",
    "print(len(s))   #counting number of characters in a file\n",
    "print('The file contents are:',s)\n",
    "print('The first 20 characters of the file are:',s[50:100])\n",
    "fhand.close()"
   ]
  },
  {
   "cell_type": "code",
   "execution_count": 50,
   "metadata": {},
   "outputs": [
    {
     "ename": "KeyboardInterrupt",
     "evalue": "Interrupted by user",
     "output_type": "error",
     "traceback": [
      "\u001b[1;31m---------------------------------------------------------------------------\u001b[0m",
      "\u001b[1;31mKeyboardInterrupt\u001b[0m                         Traceback (most recent call last)",
      "\u001b[1;32m<ipython-input-50-93d81076dc57>\u001b[0m in \u001b[0;36m<module>\u001b[1;34m\u001b[0m\n\u001b[0;32m      3\u001b[0m \u001b[0mfout\u001b[0m\u001b[1;33m=\u001b[0m\u001b[0mopen\u001b[0m\u001b[1;33m(\u001b[0m\u001b[1;34m'newfile.json'\u001b[0m\u001b[1;33m,\u001b[0m\u001b[1;34m'w'\u001b[0m\u001b[1;33m)\u001b[0m\u001b[1;33m\u001b[0m\u001b[1;33m\u001b[0m\u001b[0m\n\u001b[0;32m      4\u001b[0m \u001b[1;32mfor\u001b[0m \u001b[0mi\u001b[0m \u001b[1;32min\u001b[0m \u001b[0mrange\u001b[0m\u001b[1;33m(\u001b[0m\u001b[1;36m5\u001b[0m\u001b[1;33m)\u001b[0m\u001b[1;33m:\u001b[0m\u001b[1;33m\u001b[0m\u001b[1;33m\u001b[0m\u001b[0m\n\u001b[1;32m----> 5\u001b[1;33m     \u001b[0mline\u001b[0m\u001b[1;33m=\u001b[0m\u001b[0minput\u001b[0m\u001b[1;33m(\u001b[0m\u001b[1;34m'Enter a line: '\u001b[0m\u001b[1;33m)\u001b[0m\u001b[1;33m\u001b[0m\u001b[1;33m\u001b[0m\u001b[0m\n\u001b[0m\u001b[0;32m      6\u001b[0m     \u001b[0mfout\u001b[0m\u001b[1;33m.\u001b[0m\u001b[0mwrite\u001b[0m\u001b[1;33m(\u001b[0m\u001b[0mline\u001b[0m\u001b[1;33m+\u001b[0m\u001b[1;34m'\\n'\u001b[0m\u001b[1;33m)\u001b[0m\u001b[1;33m\u001b[0m\u001b[1;33m\u001b[0m\u001b[0m\n\u001b[0;32m      7\u001b[0m \u001b[1;33m\u001b[0m\u001b[0m\n",
      "\u001b[1;32mc:\\users\\aryan\\appdata\\local\\programs\\python\\python39\\lib\\site-packages\\ipykernel\\kernelbase.py\u001b[0m in \u001b[0;36mraw_input\u001b[1;34m(self, prompt)\u001b[0m\n\u001b[0;32m    855\u001b[0m                 \u001b[1;34m\"raw_input was called, but this frontend does not support input requests.\"\u001b[0m\u001b[1;33m\u001b[0m\u001b[1;33m\u001b[0m\u001b[0m\n\u001b[0;32m    856\u001b[0m             )\n\u001b[1;32m--> 857\u001b[1;33m         return self._input_request(str(prompt),\n\u001b[0m\u001b[0;32m    858\u001b[0m             \u001b[0mself\u001b[0m\u001b[1;33m.\u001b[0m\u001b[0m_parent_ident\u001b[0m\u001b[1;33m,\u001b[0m\u001b[1;33m\u001b[0m\u001b[1;33m\u001b[0m\u001b[0m\n\u001b[0;32m    859\u001b[0m             \u001b[0mself\u001b[0m\u001b[1;33m.\u001b[0m\u001b[0m_parent_header\u001b[0m\u001b[1;33m,\u001b[0m\u001b[1;33m\u001b[0m\u001b[1;33m\u001b[0m\u001b[0m\n",
      "\u001b[1;32mc:\\users\\aryan\\appdata\\local\\programs\\python\\python39\\lib\\site-packages\\ipykernel\\kernelbase.py\u001b[0m in \u001b[0;36m_input_request\u001b[1;34m(self, prompt, ident, parent, password)\u001b[0m\n\u001b[0;32m    899\u001b[0m             \u001b[1;32mexcept\u001b[0m \u001b[0mKeyboardInterrupt\u001b[0m\u001b[1;33m:\u001b[0m\u001b[1;33m\u001b[0m\u001b[1;33m\u001b[0m\u001b[0m\n\u001b[0;32m    900\u001b[0m                 \u001b[1;31m# re-raise KeyboardInterrupt, to truncate traceback\u001b[0m\u001b[1;33m\u001b[0m\u001b[1;33m\u001b[0m\u001b[1;33m\u001b[0m\u001b[0m\n\u001b[1;32m--> 901\u001b[1;33m                 \u001b[1;32mraise\u001b[0m \u001b[0mKeyboardInterrupt\u001b[0m\u001b[1;33m(\u001b[0m\u001b[1;34m\"Interrupted by user\"\u001b[0m\u001b[1;33m)\u001b[0m \u001b[1;32mfrom\u001b[0m \u001b[1;32mNone\u001b[0m\u001b[1;33m\u001b[0m\u001b[1;33m\u001b[0m\u001b[0m\n\u001b[0m\u001b[0;32m    902\u001b[0m             \u001b[1;32mexcept\u001b[0m \u001b[0mException\u001b[0m \u001b[1;32mas\u001b[0m \u001b[0me\u001b[0m\u001b[1;33m:\u001b[0m\u001b[1;33m\u001b[0m\u001b[1;33m\u001b[0m\u001b[0m\n\u001b[0;32m    903\u001b[0m                 \u001b[0mself\u001b[0m\u001b[1;33m.\u001b[0m\u001b[0mlog\u001b[0m\u001b[1;33m.\u001b[0m\u001b[0mwarning\u001b[0m\u001b[1;33m(\u001b[0m\u001b[1;34m\"Invalid Message:\"\u001b[0m\u001b[1;33m,\u001b[0m \u001b[0mexc_info\u001b[0m\u001b[1;33m=\u001b[0m\u001b[1;32mTrue\u001b[0m\u001b[1;33m)\u001b[0m\u001b[1;33m\u001b[0m\u001b[1;33m\u001b[0m\u001b[0m\n",
      "\u001b[1;31mKeyboardInterrupt\u001b[0m: Interrupted by user"
     ]
    }
   ],
   "source": [
    "# Example to write the data into a file\n",
    "\n",
    "fout=open('newfile.json','w')\n",
    "for i in range(5):\n",
    "    line=input('Enter a line: ')\n",
    "    fout.write(line+'\\n')\n",
    "    \n",
    "print('File writing over!')\n",
    "\n",
    "fout.close()"
   ]
  },
  {
   "cell_type": "markdown",
   "metadata": {},
   "source": [
    "## Exercises:\n",
    "1. Write a program to count number of words in the file\n",
    "2. Write a program to search for a word and print only those lines which start with the given word\n",
    "3. Program to count no of lines, words, charachters in a file\n",
    "4. Write a program to copy contents of one file into another"
   ]
  },
  {
   "cell_type": "code",
   "execution_count": 51,
   "metadata": {},
   "outputs": [
    {
     "name": "stdout",
     "output_type": "stream",
     "text": [
      "46\n"
     ]
    }
   ],
   "source": [
    "#1\n",
    "try:\n",
    "    fhand=open('myfile.txt')\n",
    "except:\n",
    "    print('File cannot be opened')\n",
    "    #exit\n",
    "\n",
    "s=fhand.read()\n",
    "print(len(s.split()))\n",
    "fhand.close()"
   ]
  },
  {
   "cell_type": "code",
   "execution_count": 55,
   "metadata": {},
   "outputs": [
    {
     "name": "stdout",
     "output_type": "stream",
     "text": [
      "Please enter a word: Reading\n",
      "File opened successfully\n",
      "Lines starting with Reading are:\n",
      "Reading data from the files is a part of programming\n"
     ]
    }
   ],
   "source": [
    "#2\n",
    "#fname=input('Please enter file name:')\n",
    "inputWord=input('Please enter a word: ')\n",
    "try:\n",
    "    fhand=open('myfile.txt','r')\n",
    "    print('File opened successfully')\n",
    "    print('Lines starting with',inputWord,'are:')\n",
    "except:\n",
    "    print('File cannot be opened')\n",
    "    #exit\n",
    "for line in fhand:\n",
    "    #if(line.split()[0]==inputWord):\n",
    "    if(line.startswith(inputWord)):\n",
    "        print(line,end='')\n",
    "\n",
    "fhand.close()"
   ]
  },
  {
   "cell_type": "code",
   "execution_count": 125,
   "metadata": {},
   "outputs": [
    {
     "name": "stdout",
     "output_type": "stream",
     "text": [
      "File opened successfully\n",
      "Lines starting with To are:\n",
      "No of Lines= 5\n",
      "No of words= 46\n",
      "No of characters= 254\n"
     ]
    }
   ],
   "source": [
    "try:\n",
    "    fhand=open('myfile.txt','r')\n",
    "    print('File opened successfully')\n",
    "    print('Lines starting with',inputWord,'are:')\n",
    "except:\n",
    "    print('File cannot be opened')\n",
    "    #exit\n",
    "#flist=fhand.readlines()\n",
    "\n",
    "lineCount=0\n",
    "wordCount=0\n",
    "charCount=0\n",
    "for line in fhand:\n",
    "    lineCount+=1\n",
    "    wordCount+=len(line.split())\n",
    "    charCount+=len(line)    \n",
    "print('No of Lines=',lineCount)\n",
    "print('No of words=',wordCount)\n",
    "print('No of characters=',charCount)\n",
    "\n",
    "fhand.close()"
   ]
  },
  {
   "cell_type": "code",
   "execution_count": 1,
   "metadata": {},
   "outputs": [
    {
     "name": "stdout",
     "output_type": "stream",
     "text": [
      "File opened successfully\n",
      "File cannot be opened\n",
      "No of Lines= 5\n",
      "No of words= 46\n",
      "No of characters= 254\n"
     ]
    }
   ],
   "source": [
    "#3\n",
    "try:\n",
    "    fhand=open('myfile.txt','r')\n",
    "    print('File opened successfully')\n",
    "    print('Lines starting with',inputWord,'are:')\n",
    "except:\n",
    "    print('File cannot be opened')\n",
    "    #exit\n",
    "flist=fhand.readlines()\n",
    "print('No of Lines=',len(flist))\n",
    "wordCount=0;\n",
    "charCount=0\n",
    "for line in flist:\n",
    "    wordCount+=len(line.split())\n",
    "    charCount+=len(line)    \n",
    "print('No of words=',wordCount)\n",
    "print('No of characters=',charCount)\n",
    "\n",
    "fhand.close()"
   ]
  },
  {
   "cell_type": "code",
   "execution_count": 120,
   "metadata": {},
   "outputs": [
    {
     "name": "stdout",
     "output_type": "stream",
     "text": [
      "File opened successfully\n",
      "File copied successfully\n"
     ]
    }
   ],
   "source": [
    "#4\n",
    "try:\n",
    "    fhand=open('myfile.txt','r')\n",
    "    fout=open('myfile2.txt','w')\n",
    "    print('File opened successfully')\n",
    "    \n",
    "except:\n",
    "    print('File cannot be opened')\n",
    "    #exit(0)\n",
    "for line in fhand:\n",
    "    fout.write(line)\n",
    "print('File copied successfully')\n",
    "fhand.close()\n",
    "fout.close()"
   ]
  },
  {
   "cell_type": "code",
   "execution_count": null,
   "metadata": {},
   "outputs": [],
   "source": []
  }
 ],
 "metadata": {
  "kernelspec": {
   "display_name": "Python 3",
   "language": "python",
   "name": "python3"
  },
  "language_info": {
   "codemirror_mode": {
    "name": "ipython",
    "version": 3
   },
   "file_extension": ".py",
   "mimetype": "text/x-python",
   "name": "python",
   "nbconvert_exporter": "python",
   "pygments_lexer": "ipython3",
   "version": "3.9.1"
  }
 },
 "nbformat": 4,
 "nbformat_minor": 4
}
