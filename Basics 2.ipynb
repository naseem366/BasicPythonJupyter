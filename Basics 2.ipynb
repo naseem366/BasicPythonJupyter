{
 "cells": [
  {
   "cell_type": "markdown",
   "metadata": {},
   "source": [
    "# Basics 2"
   ]
  },
  {
   "cell_type": "markdown",
   "metadata": {},
   "source": [
    "## Conditional structures"
   ]
  },
  {
   "cell_type": "code",
   "execution_count": 14,
   "metadata": {},
   "outputs": [
    {
     "name": "stdin",
     "output_type": "stream",
     "text": [
      "Enter marks: 40\n"
     ]
    }
   ],
   "source": [
    "# Simple if statement\n",
    "\n",
    "x=int(input(\"Enter marks:\"))\n",
    "if x<40:\n",
    "    print('Fail')"
   ]
  },
  {
   "cell_type": "code",
   "execution_count": 18,
   "metadata": {},
   "outputs": [
    {
     "name": "stdin",
     "output_type": "stream",
     "text": [
      "enter the value 45\n"
     ]
    }
   ],
   "source": [
    "x=int(input(\"enter the value\"))\n",
    "if x<=40:\n",
    "    print(\"fail\")"
   ]
  },
  {
   "cell_type": "code",
   "execution_count": 21,
   "metadata": {},
   "outputs": [
    {
     "name": "stdin",
     "output_type": "stream",
     "text": [
      "Enter marks: 45\n"
     ]
    },
    {
     "name": "stdout",
     "output_type": "stream",
     "text": [
      "pass\n"
     ]
    }
   ],
   "source": [
    "# if-else \n",
    "x=int(input(\"Enter marks:\"))\n",
    "if x<40:\n",
    "    print('Fail')\n",
    "else:\n",
    "    print(\"pass\")\n",
    "    "
   ]
  },
  {
   "cell_type": "code",
   "execution_count": 30,
   "metadata": {},
   "outputs": [
    {
     "name": "stdin",
     "output_type": "stream",
     "text": [
      "Enter marks: 35\n"
     ]
    },
    {
     "name": "stdout",
     "output_type": "stream",
     "text": [
      "Fail\n",
      "Grade F\n",
      "Complete\n"
     ]
    }
   ],
   "source": [
    "#else-if chain\n",
    "x=int(input(\"Enter marks:\"))\n",
    "if x>100 or x<0:\n",
    "    print('Invalid')\n",
    "elif x>=90:\n",
    "    print('Pass')\n",
    "    print('Grade A')\n",
    "elif x>=75:\n",
    "    print('Pass')\n",
    "    print('Grade B')\n",
    "elif x>=60:\n",
    "    print('Pass')\n",
    "    print('Grade C')\n",
    "elif x>=40:\n",
    "    print('Pass')\n",
    "    print('Grade D')\n",
    "else:\n",
    "    print('Fail')\n",
    "    print('Grade F')\n",
    "    \n",
    "print('Complete')\n",
    "    "
   ]
  },
  {
   "cell_type": "code",
   "execution_count": 34,
   "metadata": {},
   "outputs": [
    {
     "name": "stdin",
     "output_type": "stream",
     "text": [
      "Enter Marks: 55\n"
     ]
    },
    {
     "name": "stdout",
     "output_type": "stream",
     "text": [
      "NA\n"
     ]
    }
   ],
   "source": [
    "#nested if\n",
    "x=float(input(\"Enter Marks:\"))\n",
    "if(x>=60):\n",
    "    if(x<70):\n",
    "        print(\"first class\")\n",
    "    else:\n",
    "        print(\"Distinction\")\n",
    "else:\n",
    "    print(\"NA\")"
   ]
  },
  {
   "cell_type": "code",
   "execution_count": 36,
   "metadata": {},
   "outputs": [
    {
     "name": "stdin",
     "output_type": "stream",
     "text": [
      "Please enter no. of hours worked:  6\n",
      "Please enter wage per hour:  5500\n"
     ]
    },
    {
     "name": "stdout",
     "output_type": "stream",
     "text": [
      "Gross Pay= Rs 33000.0\n"
     ]
    }
   ],
   "source": [
    "#Gross Pay Computation\n",
    "workedHours=float(input(\"Please enter no. of hours worked: \"))\n",
    "wageRate=float(input(\"Please enter wage per hour: \"))\n",
    "print(\"Gross Pay= Rs\",workedHours*wageRate)"
   ]
  },
  {
   "cell_type": "code",
   "execution_count": 42,
   "metadata": {},
   "outputs": [
    {
     "name": "stdin",
     "output_type": "stream",
     "text": [
      "Please enter temperature in Celsius:  55\n"
     ]
    },
    {
     "name": "stdout",
     "output_type": "stream",
     "text": [
      "Temperature in Fahrenheit=  131.0F \n"
     ]
    }
   ],
   "source": [
    "#Celsius to Fahrenheit\n",
    "tempInC=float(input(\"Please enter temperature in Celsius: \"))\n",
    "tempInF=(tempInC*(9/5))+32\n",
    "print(\"Temperature in Fahrenheit= \",tempInF,end=\"F \\n\") \n"
   ]
  },
  {
   "cell_type": "markdown",
   "metadata": {},
   "source": [
    "## Looping structures\n",
    "- $while$ loop\n",
    "- $for$ loop"
   ]
  },
  {
   "cell_type": "code",
   "execution_count": 50,
   "metadata": {},
   "outputs": [
    {
     "name": "stdout",
     "output_type": "stream",
     "text": [
      "i = 0\n",
      "i = 1\n",
      "i = 2\n",
      "i = 3\n",
      "i = 4\n",
      "i = 5\n",
      "Example over\n"
     ]
    }
   ],
   "source": [
    "# While loop\n",
    "i=0\n",
    "while i<=5:\n",
    "    print('i =',i)\n",
    "    i+=1\n",
    "print('Example over')"
   ]
  },
  {
   "cell_type": "code",
   "execution_count": 48,
   "metadata": {},
   "outputs": [
    {
     "name": "stdout",
     "output_type": "stream",
     "text": [
      "0\n",
      "1\n",
      "2\n",
      "3\n",
      "4\n",
      "5\n",
      "6\n",
      "7\n",
      "8\n",
      "9\n",
      "10\n",
      "11\n",
      "12\n"
     ]
    }
   ],
   "source": [
    "x='hello this is'\n",
    "y=len(x)\n",
    "for i in range(y):\n",
    "    print(i)"
   ]
  },
  {
   "cell_type": "code",
   "execution_count": null,
   "metadata": {},
   "outputs": [],
   "source": [
    "# for loop\n",
    "for i in range(5):\n",
    "    print(i)"
   ]
  },
  {
   "cell_type": "code",
   "execution_count": 49,
   "metadata": {},
   "outputs": [
    {
     "name": "stdout",
     "output_type": "stream",
     "text": [
      "10\n",
      "7\n",
      "4\n",
      "1\n"
     ]
    }
   ],
   "source": [
    "for i in range(10,0,-3):\n",
    "    print(i)"
   ]
  },
  {
   "cell_type": "code",
   "execution_count": 2,
   "metadata": {},
   "outputs": [
    {
     "name": "stdout",
     "output_type": "stream",
     "text": [
      "h\n",
      "e\n",
      "l\n",
      "l\n",
      "o\n"
     ]
    }
   ],
   "source": [
    "for i in 'hello':\n",
    "    print(i)"
   ]
  },
  {
   "cell_type": "code",
   "execution_count": null,
   "metadata": {},
   "outputs": [],
   "source": []
  },
  {
   "cell_type": "code",
   "execution_count": 51,
   "metadata": {},
   "outputs": [
    {
     "name": "stdout",
     "output_type": "stream",
     "text": [
      "( 0 0 0 ) ( 0 0 1 ) ( 0 1 0 ) ( 0 1 1 ) ( 0 2 0 ) ( 0 2 1 ) ( 0 3 0 ) ( 0 3 1 ) ( 1 0 0 ) ( 1 0 1 ) ( 1 1 0 ) ( 1 1 1 ) ( 1 2 0 ) ( 1 2 1 ) ( 1 3 0 ) ( 1 3 1 ) ( 2 0 0 ) ( 2 0 1 ) ( 2 1 0 ) ( 2 1 1 ) ( 2 2 0 ) ( 2 2 1 ) ( 2 3 0 ) ( 2 3 1 ) "
     ]
    }
   ],
   "source": [
    "# Nested loops\n",
    "for i in range(3):\n",
    "    for j in range(4):\n",
    "        for k in range(2):\n",
    "            print('(',i,j,k,')',end=' ')"
   ]
  },
  {
   "cell_type": "code",
   "execution_count": 6,
   "metadata": {},
   "outputs": [
    {
     "name": "stdin",
     "output_type": "stream",
     "text": [
      "Enter a number:  21\n"
     ]
    },
    {
     "name": "stdout",
     "output_type": "stream",
     "text": [
      "Game Over!\n"
     ]
    }
   ],
   "source": [
    "for i in range(10):\n",
    "    x=int(input(\"Enter a number: \"))\n",
    "    \n",
    "    if x%7==0:\n",
    "        break\n",
    "    \n",
    "    print(\"The number you have entered is:\",x)\n",
    "print(\"Game Over!\")"
   ]
  },
  {
   "cell_type": "code",
   "execution_count": 7,
   "metadata": {},
   "outputs": [
    {
     "name": "stdin",
     "output_type": "stream",
     "text": [
      "Enter a positive number  -2\n"
     ]
    },
    {
     "name": "stdout",
     "output_type": "stream",
     "text": [
      "Negative numbers not considered\n"
     ]
    },
    {
     "name": "stdin",
     "output_type": "stream",
     "text": [
      "Enter a positive number  -1\n"
     ]
    },
    {
     "name": "stdout",
     "output_type": "stream",
     "text": [
      "Negative numbers not considered\n"
     ]
    },
    {
     "name": "stdin",
     "output_type": "stream",
     "text": [
      "Enter a positive number  -55\n"
     ]
    },
    {
     "name": "stdout",
     "output_type": "stream",
     "text": [
      "Negative numbers not considered\n"
     ]
    },
    {
     "name": "stdin",
     "output_type": "stream",
     "text": [
      "Enter a positive number  -6\n"
     ]
    },
    {
     "name": "stdout",
     "output_type": "stream",
     "text": [
      "Negative numbers not considered\n"
     ]
    },
    {
     "name": "stdin",
     "output_type": "stream",
     "text": [
      "Enter a positive number  -7\n"
     ]
    },
    {
     "name": "stdout",
     "output_type": "stream",
     "text": [
      "Negative numbers not considered\n"
     ]
    },
    {
     "name": "stdin",
     "output_type": "stream",
     "text": [
      "Enter a positive number  -9\n"
     ]
    },
    {
     "name": "stdout",
     "output_type": "stream",
     "text": [
      "Negative numbers not considered\n"
     ]
    },
    {
     "name": "stdin",
     "output_type": "stream",
     "text": [
      "Enter a positive number  55\n",
      "Enter a positive number  -4\n"
     ]
    },
    {
     "name": "stdout",
     "output_type": "stream",
     "text": [
      "Negative numbers not considered\n"
     ]
    },
    {
     "name": "stdin",
     "output_type": "stream",
     "text": [
      "Enter a positive number  -2\n"
     ]
    },
    {
     "name": "stdout",
     "output_type": "stream",
     "text": [
      "Negative numbers not considered\n"
     ]
    },
    {
     "name": "stdin",
     "output_type": "stream",
     "text": [
      "Enter a positive number  42\n"
     ]
    },
    {
     "name": "stdout",
     "output_type": "stream",
     "text": [
      "Total= 97\n"
     ]
    }
   ],
   "source": [
    "total=0\n",
    "for i in range(10):\n",
    "    x=int(input(\"Enter a positive number \"))\n",
    "    \n",
    "    if x<0:\n",
    "        print(\"Negative numbers not considered\")\n",
    "        continue\n",
    "    \n",
    "    total+=x;\n",
    "\n",
    "print(\"Total=\",total);"
   ]
  },
  {
   "cell_type": "markdown",
   "metadata": {},
   "source": [
    "### Assignment"
   ]
  },
  {
   "cell_type": "code",
   "execution_count": 10,
   "metadata": {},
   "outputs": [
    {
     "name": "stdout",
     "output_type": "stream",
     "text": [
      "Please enter a number2\n",
      "2 is a Prime number\n"
     ]
    }
   ],
   "source": [
    "#program to check if given number is prime\n",
    "import math\n",
    "inputNo=int(input(\"Please enter a number\"))\n",
    "flag= True\n",
    "if inputNo==1:\n",
    "    print(\"1 is not a Prime number \")\n",
    "else:\n",
    "    for i in range(2,int(math.sqrt(inputNo))+1):\n",
    "        if inputNo%i==0:\n",
    "            print(inputNo, \"is5 not a Prime number\")\n",
    "            flag = False\n",
    "            break\n",
    "    if flag:\n",
    "        print(inputNo, \"is a Prime number\")\n",
    "        \n",
    "#for example "
   ]
  },
  {
   "cell_type": "code",
   "execution_count": null,
   "metadata": {},
   "outputs": [],
   "source": []
  },
  {
   "cell_type": "code",
   "execution_count": 8,
   "metadata": {},
   "outputs": [
    {
     "name": "stdin",
     "output_type": "stream",
     "text": [
      "Please enter 1st side length:  5\n",
      "Please enter 2st side length:  4\n",
      "Please enter 3rd side length:  3\n"
     ]
    },
    {
     "name": "stdout",
     "output_type": "stream",
     "text": [
      "Area of triangle = 6.0\n"
     ]
    }
   ],
   "source": [
    "#program to check area of triangle with sides given\n",
    "import math\n",
    "sideA=float(input(\"Please enter 1st side length: \"))\n",
    "sideB=float(input(\"Please enter 2st side length: \"))\n",
    "sideC=float(input(\"Please enter 3rd side length: \"))\n",
    "if (sideA+sideB)>sideC and (sideB+sideC)>sideA and (sideA+sideC)>sideB:\n",
    "    s=(sideA+sideB+sideC)/2\n",
    "    area=math.sqrt(s*(s-sideA)*(s-sideB)*(s-sideC))\n",
    "    print(\"Area of triangle =\",area)\n",
    "else:\n",
    "    print(\"Triangle cannot be formed\")"
   ]
  },
  {
   "cell_type": "code",
   "execution_count": 12,
   "metadata": {},
   "outputs": [
    {
     "name": "stdout",
     "output_type": "stream",
     "text": [
      "Please enter a positive integer: 5\n",
      "Factorial of 5 is 120\n"
     ]
    }
   ],
   "source": [
    "#program to find factorial\n",
    "#4= 4*3*2*1= logic = 6,5,4,3,2,1 , 0!= 1\n",
    "inputNo=int(input(\"Please enter a positive integer: \"))\n",
    "factorial=1\n",
    "if inputNo<0:\n",
    "    print(\"Factorial doesn't exist for negative numbers\")\n",
    "elif inputNo==0:\n",
    "    print(\"Factorial is 1\")\n",
    "else:\n",
    "    for i in range(1,inputNo+1):\n",
    "        factorial*=i\n",
    "    print(\"Factorial of\",inputNo,\"is\",factorial)"
   ]
  },
  {
   "cell_type": "code",
   "execution_count": 7,
   "metadata": {},
   "outputs": [
    {
     "name": "stdout",
     "output_type": "stream",
     "text": [
      "Please enter a positive integer:111\n",
      "111 is a palindrome\n"
     ]
    }
   ],
   "source": [
    "#program to check palindrome\n",
    "inputNo=int(input(\"Please enter a positive integer:\"))\n",
    "if(inputNo>0):\n",
    "    temp=inputNo\n",
    "    NumReverse=0\n",
    "    while inputNo>0:\n",
    "        dig=inputNo%10\n",
    "        NumReverse=(NumReverse*10)+dig\n",
    "        inputNo=inputNo//10\n",
    "    if NumReverse==temp:\n",
    "        print(temp,\"is a palindrome\")\n",
    "    else:\n",
    "        print(temp,\"is not a palindrome\")\n",
    "else:\n",
    "    print(\"Invalid input\")"
   ]
  },
  {
   "cell_type": "code",
   "execution_count": 14,
   "metadata": {},
   "outputs": [
    {
     "name": "stdout",
     "output_type": "stream",
     "text": [
      "Please input positive integer: 564\n",
      "Sum of digits= 15\n"
     ]
    }
   ],
   "source": [
    "#program to find sum of digits\n",
    "total=0\n",
    "inputNo=int(input(\"Please input positive integer: \"))\n",
    "if(inputNo>0):\n",
    "    while inputNo>0:\n",
    "        digit=inputNo%10\n",
    "        total+=digit\n",
    "        inputNo=inputNo//10\n",
    "    print(\"Sum of digits=\",total)\n",
    "else:\n",
    "    print(\"Invalid Input\")"
   ]
  },
  {
   "cell_type": "code",
   "execution_count": 5,
   "metadata": {},
   "outputs": [
    {
     "name": "stdout",
     "output_type": "stream",
     "text": [
      "Please enter a number: 100\n",
      "Prime numbers upto 100 are: 2 3 5 7 11 13 17 19 23 29 31 37 41 43 47 53 59 61 67 71 73 79 83 89 97 "
     ]
    }
   ],
   "source": [
    "#program to print prime numbers upto n\n",
    "inputNo=int(input(\"Please enter a number: \"))\n",
    "#flag= True\n",
    "if(inputNo==1):\n",
    "    print(\"No prime numbers\")\n",
    "else:\n",
    "    print(\"Prime numbers upto\",inputNo,\"are:\",end=' ')\n",
    "    for i in range(2,inputNo+1):\n",
    "        flag= True\n",
    "        #print(\"i=\",i)\n",
    "        #for j in range(2,i):\n",
    "        for j in range(2,int(math.sqrt(i))+1):\n",
    "            #print(\"j=\",j)\n",
    "            if i%j==0:\n",
    "                flag= False\n",
    "                break\n",
    "        if flag:\n",
    "            print(i,end=' ')"
   ]
  },
  {
   "cell_type": "code",
   "execution_count": 7,
   "metadata": {},
   "outputs": [
    {
     "name": "stdout",
     "output_type": "stream",
     "text": [
      "Please enter a positive non-zero integer: 10\n",
      "The Fibonacci series upto 10 terms : 0 1 1 2 3 5 8 13 21 34 "
     ]
    }
   ],
   "source": [
    "#program to print fibonacci series upto n digits\n",
    "inputNo=int(input(\"Please enter a positive non-zero integer: \"))\n",
    "i=0\n",
    "firstNo=0\n",
    "secondNo=1\n",
    "\n",
    "if inputNo<=0:\n",
    "    print(\"Wrong input\")\n",
    "#elif inputNo==1:\n",
    "#    print(\"The Fibonacci series = 1\")\n",
    "else:\n",
    "    print(\"The Fibonacci series upto\",inputNo,\"terms :\",end=' ')\n",
    "    print(firstNo,secondNo,end=' ')\n",
    "    while i<inputNo-2:\n",
    "        fibNo=firstNo+secondNo\n",
    "        print(fibNo,end=' ')\n",
    "        firstNo=secondNo\n",
    "        secondNo=fibNo\n",
    "        i+=1"
   ]
  },
  {
   "cell_type": "code",
   "execution_count": 8,
   "metadata": {},
   "outputs": [
    {
     "name": "stdout",
     "output_type": "stream",
     "text": [
      "Enter a number10\n",
      "0 1 1 2 3 5 8 13 21 34 "
     ]
    }
   ],
   "source": [
    "#fibonacci using for\n",
    "n=int(input('Enter a number'))\n",
    "if n<0:\n",
    "    print('Invalid number')\n",
    "else:\n",
    "    f0=0\n",
    "    f1=1\n",
    "    print(f0,f1,end=' ')\n",
    "    for i in range(2,n):\n",
    "        f2=f0+f1\n",
    "        print(f2,end=' ')\n",
    "        f0=f1\n",
    "        f1=f2"
   ]
  },
  {
   "cell_type": "code",
   "execution_count": 11,
   "metadata": {},
   "outputs": [
    {
     "name": "stdout",
     "output_type": "stream",
     "text": [
      "Prime numbers upto 10 are: 2 3 5 7 11 13 17 19 23 29 "
     ]
    }
   ],
   "source": [
    "import math\n",
    "inputNo=10\n",
    "count=0\n",
    "i=2\n",
    "if(inputNo==1):\n",
    "    print(\"No prime numbers\")\n",
    "else:\n",
    "    print(\"Prime numbers upto\",inputNo,\"are:\",end=' ')\n",
    "    while(count<inputNo):\n",
    "        flag= True\n",
    "        \n",
    "        for j in range(2,int(math.sqrt(i))+1):\n",
    "           # print(\"j=\",j)\n",
    "            if i%j==0:\n",
    "                flag= False\n",
    "                \n",
    "                break\n",
    "        if flag:\n",
    "            print(i,end=' ')\n",
    "            count+=1\n",
    "        i+=1\n"
   ]
  },
  {
   "cell_type": "code",
   "execution_count": null,
   "metadata": {},
   "outputs": [],
   "source": []
  }
 ],
 "metadata": {
  "kernelspec": {
   "display_name": "Python 3",
   "language": "python",
   "name": "python3"
  },
  "language_info": {
   "codemirror_mode": {
    "name": "ipython",
    "version": 3
   },
   "file_extension": ".py",
   "mimetype": "text/x-python",
   "name": "python",
   "nbconvert_exporter": "python",
   "pygments_lexer": "ipython3",
   "version": "3.9.1"
  }
 },
 "nbformat": 4,
 "nbformat_minor": 4
}
